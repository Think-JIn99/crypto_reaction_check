{
 "cells": [
  {
   "cell_type": "markdown",
   "metadata": {},
   "source": [
    "#### 필터링을 직접 진행해보자\n",
    "* 앞 선 노트북을 통해 필터링 해야할 단어를 추출 했다.\n",
    "* 이제 직접 필터링을 진행해 광고글이나 관련 없는 질문 글 등을 제거해보자."
   ]
  },
  {
   "cell_type": "code",
   "execution_count": 2,
   "metadata": {},
   "outputs": [],
   "source": [
    "import numpy as np\n",
    "import pandas as pd\n",
    "import matplotlib.pyplot as plt"
   ]
  },
  {
   "cell_type": "code",
   "execution_count": 3,
   "metadata": {},
   "outputs": [
    {
     "name": "stdout",
     "output_type": "stream",
     "text": [
      "<class 'pandas.core.frame.DataFrame'>\n",
      "Int64Index: 37508 entries, 0 to 38570\n",
      "Data columns (total 8 columns):\n",
      " #   Column        Non-Null Count  Dtype  \n",
      "---  ------        --------------  -----  \n",
      " 0   id            37508 non-null  object \n",
      " 1   author        37508 non-null  object \n",
      " 2   title_vader   37508 non-null  float64\n",
      " 3   title         37508 non-null  object \n",
      " 4   selftext      18115 non-null  object \n",
      " 5   created_utc   37508 non-null  int64  \n",
      " 6   num_comments  37508 non-null  int64  \n",
      " 7   score         37508 non-null  int64  \n",
      "dtypes: float64(1), int64(3), object(4)\n",
      "memory usage: 2.6+ MB\n"
     ]
    }
   ],
   "source": [
    "df = pd.read_csv(\"../data/title_output.csv\")\n",
    "df = df.drop_duplicates(['title'],keep='first') #중복 처리를 해준다.\n",
    "df.info()"
   ]
  },
  {
   "cell_type": "markdown",
   "metadata": {},
   "source": [
    "#### 우리가 제거해야 할 것들\n",
    "> 광고성 글로 인식되는 단어들\n",
    "1. url이 포함된 게시글\n",
    "2. 광고성 단어가 포함된 게시글 들\n",
    "3. 긍정적이거나 부정적 단어가 활용됐지만, 의문문의 형태로 끝나는 문장들\n",
    "\n",
    "> 광고성 단어들\n",
    "* link,card,paypal,mine,platform,browser,site 등.."
   ]
  },
  {
   "cell_type": "code",
   "execution_count": 4,
   "metadata": {},
   "outputs": [],
   "source": [
    "def remove_pattern(df, patt, column_name):\n",
    "    patt_find = df[column_name].str.findall(patt, flags = re.IGNORECASE)\n",
    "    valid_index = np.where(patt_find.apply(len) == 0, True, False)\n",
    "    return valid_index"
   ]
  },
  {
   "cell_type": "code",
   "execution_count": 5,
   "metadata": {},
   "outputs": [],
   "source": [
    "import re\n",
    "column_name = 'title'\n",
    "url_patt = \"(http:\\/\\/www\\.|https:\\/\\/www\\.|http:\\/\\/|https:\\/\\/)?[a-z0-9]+([\\-\\.]{1}[a-z0-9]+)*\\.[a-z]{2,5}(:[0-9]{1,5})?(\\/.*)?$\"\n",
    "patt  = r'\\bfree\\b|\\binstall\\b|\\bdownload\\b|\\bapp\\b|\\bwallet\\b|\\bhardware\\b|\\blink\\b|\\bcard\\b|\\bpayapl\\b|\\bmine\\b|\\bplatform\\b|\\bbrowser\\b|\\bsite\\b'\n",
    "word_index = remove_pattern(df, patt, column_name)\n",
    "url_index = remove_pattern(df,url_patt,column_name)\n",
    "title_to_remove = df.loc[(word_index & url_index) == False, ['title','title_vader']]"
   ]
  },
  {
   "cell_type": "code",
   "execution_count": 6,
   "metadata": {},
   "outputs": [
    {
     "data": {
      "text/html": [
       "<div>\n",
       "<style scoped>\n",
       "    .dataframe tbody tr th:only-of-type {\n",
       "        vertical-align: middle;\n",
       "    }\n",
       "\n",
       "    .dataframe tbody tr th {\n",
       "        vertical-align: top;\n",
       "    }\n",
       "\n",
       "    .dataframe thead th {\n",
       "        text-align: right;\n",
       "    }\n",
       "</style>\n",
       "<table border=\"1\" class=\"dataframe\">\n",
       "  <thead>\n",
       "    <tr style=\"text-align: right;\">\n",
       "      <th></th>\n",
       "      <th>title</th>\n",
       "      <th>title_vader</th>\n",
       "    </tr>\n",
       "  </thead>\n",
       "  <tbody>\n",
       "    <tr>\n",
       "      <th>26</th>\n",
       "      <td>🔥🔥🔥🔥🔥🔥🔥🔥🔥🔥🔥🔥🔥🔥🔥 Get on start for FREE 5$ Just ...</td>\n",
       "      <td>-0.9950</td>\n",
       "    </tr>\n",
       "    <tr>\n",
       "      <th>41</th>\n",
       "      <td>WTF is wrong with the Coinstats app?</td>\n",
       "      <td>-0.8240</td>\n",
       "    </tr>\n",
       "    <tr>\n",
       "      <th>46</th>\n",
       "      <td>\"End the FUD\" - A site with a compilation of l...</td>\n",
       "      <td>-0.8109</td>\n",
       "    </tr>\n",
       "    <tr>\n",
       "      <th>57</th>\n",
       "      <td>🔥🔥AquaLove Token🔥🔥 @Aqualovetoken Fighting the...</td>\n",
       "      <td>-0.8555</td>\n",
       "    </tr>\n",
       "    <tr>\n",
       "      <th>98</th>\n",
       "      <td>WTF happening with blockchain.com platform ???...</td>\n",
       "      <td>-0.8253</td>\n",
       "    </tr>\n",
       "    <tr>\n",
       "      <th>...</th>\n",
       "      <td>...</td>\n",
       "      <td>...</td>\n",
       "    </tr>\n",
       "    <tr>\n",
       "      <th>38555</th>\n",
       "      <td>These group helps with registration to a platf...</td>\n",
       "      <td>0.9360</td>\n",
       "    </tr>\n",
       "    <tr>\n",
       "      <th>38558</th>\n",
       "      <td>Made a bitcoin trivia game. Put a lot of love ...</td>\n",
       "      <td>0.9150</td>\n",
       "    </tr>\n",
       "    <tr>\n",
       "      <th>38559</th>\n",
       "      <td>Interested in trading using bitcoin to earn ou...</td>\n",
       "      <td>0.9062</td>\n",
       "    </tr>\n",
       "    <tr>\n",
       "      <th>38567</th>\n",
       "      <td>How to use your PC wisely? Let it earn some BT...</td>\n",
       "      <td>0.9107</td>\n",
       "    </tr>\n",
       "    <tr>\n",
       "      <th>38569</th>\n",
       "      <td>Another great article today is This is money U...</td>\n",
       "      <td>0.9062</td>\n",
       "    </tr>\n",
       "  </tbody>\n",
       "</table>\n",
       "<p>4091 rows × 2 columns</p>\n",
       "</div>"
      ],
      "text/plain": [
       "                                                   title  title_vader\n",
       "26     🔥🔥🔥🔥🔥🔥🔥🔥🔥🔥🔥🔥🔥🔥🔥 Get on start for FREE 5$ Just ...      -0.9950\n",
       "41                  WTF is wrong with the Coinstats app?      -0.8240\n",
       "46     \"End the FUD\" - A site with a compilation of l...      -0.8109\n",
       "57     🔥🔥AquaLove Token🔥🔥 @Aqualovetoken Fighting the...      -0.8555\n",
       "98     WTF happening with blockchain.com platform ???...      -0.8253\n",
       "...                                                  ...          ...\n",
       "38555  These group helps with registration to a platf...       0.9360\n",
       "38558  Made a bitcoin trivia game. Put a lot of love ...       0.9150\n",
       "38559  Interested in trading using bitcoin to earn ou...       0.9062\n",
       "38567  How to use your PC wisely? Let it earn some BT...       0.9107\n",
       "38569  Another great article today is This is money U...       0.9062\n",
       "\n",
       "[4091 rows x 2 columns]"
      ]
     },
     "execution_count": 6,
     "metadata": {},
     "output_type": "execute_result"
    }
   ],
   "source": [
    "title_to_remove"
   ]
  },
  {
   "cell_type": "code",
   "execution_count": 7,
   "metadata": {},
   "outputs": [
    {
     "data": {
      "text/html": [
       "<div>\n",
       "<style scoped>\n",
       "    .dataframe tbody tr th:only-of-type {\n",
       "        vertical-align: middle;\n",
       "    }\n",
       "\n",
       "    .dataframe tbody tr th {\n",
       "        vertical-align: top;\n",
       "    }\n",
       "\n",
       "    .dataframe thead th {\n",
       "        text-align: right;\n",
       "    }\n",
       "</style>\n",
       "<table border=\"1\" class=\"dataframe\">\n",
       "  <thead>\n",
       "    <tr style=\"text-align: right;\">\n",
       "      <th></th>\n",
       "      <th>title_vader</th>\n",
       "    </tr>\n",
       "  </thead>\n",
       "  <tbody>\n",
       "    <tr>\n",
       "      <th>count</th>\n",
       "      <td>4091.000000</td>\n",
       "    </tr>\n",
       "    <tr>\n",
       "      <th>mean</th>\n",
       "      <td>0.328464</td>\n",
       "    </tr>\n",
       "    <tr>\n",
       "      <th>std</th>\n",
       "      <td>0.512984</td>\n",
       "    </tr>\n",
       "    <tr>\n",
       "      <th>min</th>\n",
       "      <td>-0.995000</td>\n",
       "    </tr>\n",
       "    <tr>\n",
       "      <th>25%</th>\n",
       "      <td>-0.051600</td>\n",
       "    </tr>\n",
       "    <tr>\n",
       "      <th>50%</th>\n",
       "      <td>0.510600</td>\n",
       "    </tr>\n",
       "    <tr>\n",
       "      <th>75%</th>\n",
       "      <td>0.754000</td>\n",
       "    </tr>\n",
       "    <tr>\n",
       "      <th>max</th>\n",
       "      <td>0.996900</td>\n",
       "    </tr>\n",
       "  </tbody>\n",
       "</table>\n",
       "</div>"
      ],
      "text/plain": [
       "       title_vader\n",
       "count  4091.000000\n",
       "mean      0.328464\n",
       "std       0.512984\n",
       "min      -0.995000\n",
       "25%      -0.051600\n",
       "50%       0.510600\n",
       "75%       0.754000\n",
       "max       0.996900"
      ]
     },
     "execution_count": 7,
     "metadata": {},
     "output_type": "execute_result"
    }
   ],
   "source": [
    "title_to_remove.describe()"
   ]
  },
  {
   "cell_type": "code",
   "execution_count": 8,
   "metadata": {},
   "outputs": [
    {
     "data": {
      "text/plain": [
       "(array([ 18.,  65.,  80., 117., 100., 175., 132., 138., 156., 261.,   6.,\n",
       "        137., 177., 181., 217., 529., 376., 322., 514., 390.]),\n",
       " array([-9.95000e-01, -8.95405e-01, -7.95810e-01, -6.96215e-01,\n",
       "        -5.96620e-01, -4.97025e-01, -3.97430e-01, -2.97835e-01,\n",
       "        -1.98240e-01, -9.86450e-02,  9.50000e-04,  1.00545e-01,\n",
       "         2.00140e-01,  2.99735e-01,  3.99330e-01,  4.98925e-01,\n",
       "         5.98520e-01,  6.98115e-01,  7.97710e-01,  8.97305e-01,\n",
       "         9.96900e-01]),\n",
       " <BarContainer object of 20 artists>)"
      ]
     },
     "execution_count": 8,
     "metadata": {},
     "output_type": "execute_result"
    },
    {
     "data": {
      "image/png": "[encoded data removed]",
      "text/plain": [
       "<Figure size 432x288 with 1 Axes>"
      ]
     },
     "metadata": {
      "needs_background": "light"
     },
     "output_type": "display_data"
    }
   ],
   "source": [
    "#삭제해야할 글에 vader value 분포\n",
    "plt.hist(title_to_remove['title_vader'],color='blue',edgecolor='black',bins = int(20))"
   ]
  },
  {
   "cell_type": "markdown",
   "metadata": {},
   "source": [
    "#### 광고성 단어를 포함하지 않는 문장을 선별해보니..\n",
    "* 약 4000개 가까이 되는 문장들이 사라졌다는 것을 볼 수 있다."
   ]
  },
  {
   "cell_type": "code",
   "execution_count": 9,
   "metadata": {},
   "outputs": [],
   "source": [
    "df = df.drop(['selftext'],axis=1) #결측치가 많은 self text 컬럼을 제외하고 광고성 타이틀을 전부 제거해준다."
   ]
  },
  {
   "cell_type": "code",
   "execution_count": 13,
   "metadata": {},
   "outputs": [],
   "source": [
    "df.drop(title_to_remove.index,inplace=True) #remove none-valid data from original data"
   ]
  },
  {
   "cell_type": "code",
   "execution_count": 14,
   "metadata": {},
   "outputs": [
    {
     "data": {
      "text/html": [
       "<div>\n",
       "<style scoped>\n",
       "    .dataframe tbody tr th:only-of-type {\n",
       "        vertical-align: middle;\n",
       "    }\n",
       "\n",
       "    .dataframe tbody tr th {\n",
       "        vertical-align: top;\n",
       "    }\n",
       "\n",
       "    .dataframe thead th {\n",
       "        text-align: right;\n",
       "    }\n",
       "</style>\n",
       "<table border=\"1\" class=\"dataframe\">\n",
       "  <thead>\n",
       "    <tr style=\"text-align: right;\">\n",
       "      <th></th>\n",
       "      <th>id</th>\n",
       "      <th>author</th>\n",
       "      <th>title_vader</th>\n",
       "      <th>title</th>\n",
       "      <th>created_utc</th>\n",
       "      <th>num_comments</th>\n",
       "      <th>score</th>\n",
       "    </tr>\n",
       "  </thead>\n",
       "  <tbody>\n",
       "    <tr>\n",
       "      <th>0</th>\n",
       "      <td>nb2fwa</td>\n",
       "      <td>drinksonu</td>\n",
       "      <td>-0.9360</td>\n",
       "      <td>Fuck tesla and fuck elon too. Bitch ass</td>\n",
       "      <td>1620861686</td>\n",
       "      <td>0</td>\n",
       "      <td>1</td>\n",
       "    </tr>\n",
       "    <tr>\n",
       "      <th>1</th>\n",
       "      <td>nkqhsj</td>\n",
       "      <td>BuildItMakeIt</td>\n",
       "      <td>-0.9153</td>\n",
       "      <td>Bitcoin price falling ensures that fraudulent ...</td>\n",
       "      <td>1621951391</td>\n",
       "      <td>14</td>\n",
       "      <td>1</td>\n",
       "    </tr>\n",
       "    <tr>\n",
       "      <th>2</th>\n",
       "      <td>ng5cju</td>\n",
       "      <td>chjfbcudbdhdb</td>\n",
       "      <td>-0.9138</td>\n",
       "      <td>I am going to kill myself! YOU WANNA ROCK AND ...</td>\n",
       "      <td>1621429643</td>\n",
       "      <td>16</td>\n",
       "      <td>1</td>\n",
       "    </tr>\n",
       "    <tr>\n",
       "      <th>3</th>\n",
       "      <td>ngkpa8</td>\n",
       "      <td>Capital-Repeat5483</td>\n",
       "      <td>-0.9069</td>\n",
       "      <td>Panic sold at almost exactly the lowest point ...</td>\n",
       "      <td>1621467437</td>\n",
       "      <td>26</td>\n",
       "      <td>1</td>\n",
       "    </tr>\n",
       "    <tr>\n",
       "      <th>4</th>\n",
       "      <td>nfsdej</td>\n",
       "      <td>thebottom55555</td>\n",
       "      <td>-0.9001</td>\n",
       "      <td>Sell sell sell buy safemoon</td>\n",
       "      <td>1621388169</td>\n",
       "      <td>0</td>\n",
       "      <td>1</td>\n",
       "    </tr>\n",
       "    <tr>\n",
       "      <th>...</th>\n",
       "      <td>...</td>\n",
       "      <td>...</td>\n",
       "      <td>...</td>\n",
       "      <td>...</td>\n",
       "      <td>...</td>\n",
       "      <td>...</td>\n",
       "      <td>...</td>\n",
       "    </tr>\n",
       "    <tr>\n",
       "      <th>38564</th>\n",
       "      <td>gjk1kn</td>\n",
       "      <td>lanbory</td>\n",
       "      <td>0.9100</td>\n",
       "      <td>A team of cryptocurrency enthusiasts, blockcha...</td>\n",
       "      <td>1589453401</td>\n",
       "      <td>0</td>\n",
       "      <td>1</td>\n",
       "    </tr>\n",
       "    <tr>\n",
       "      <th>38565</th>\n",
       "      <td>geep0m</td>\n",
       "      <td>nugget_alex</td>\n",
       "      <td>0.9100</td>\n",
       "      <td>Former IMF Chief Economist Prof Ken Rogoff Cal...</td>\n",
       "      <td>1588746239</td>\n",
       "      <td>3</td>\n",
       "      <td>1</td>\n",
       "    </tr>\n",
       "    <tr>\n",
       "      <th>38566</th>\n",
       "      <td>gf82gf</td>\n",
       "      <td>staron79</td>\n",
       "      <td>0.9299</td>\n",
       "      <td>I'm very interested in buying Bitcoin, what ar...</td>\n",
       "      <td>1588863458</td>\n",
       "      <td>7</td>\n",
       "      <td>1</td>\n",
       "    </tr>\n",
       "    <tr>\n",
       "      <th>38568</th>\n",
       "      <td>gmrguc</td>\n",
       "      <td>TCS13579</td>\n",
       "      <td>0.9001</td>\n",
       "      <td>should i invest in proof of trust ltd ?!? PLEA...</td>\n",
       "      <td>1589904419</td>\n",
       "      <td>4</td>\n",
       "      <td>0</td>\n",
       "    </tr>\n",
       "    <tr>\n",
       "      <th>38570</th>\n",
       "      <td>geakkd</td>\n",
       "      <td>TeekaTiwari</td>\n",
       "      <td>0.9185</td>\n",
       "      <td>STUNNING BUY ALERT: Man who picked Apple, Bitc...</td>\n",
       "      <td>1588728159</td>\n",
       "      <td>3</td>\n",
       "      <td>2</td>\n",
       "    </tr>\n",
       "  </tbody>\n",
       "</table>\n",
       "<p>33417 rows × 7 columns</p>\n",
       "</div>"
      ],
      "text/plain": [
       "           id              author  title_vader  \\\n",
       "0      nb2fwa           drinksonu      -0.9360   \n",
       "1      nkqhsj       BuildItMakeIt      -0.9153   \n",
       "2      ng5cju       chjfbcudbdhdb      -0.9138   \n",
       "3      ngkpa8  Capital-Repeat5483      -0.9069   \n",
       "4      nfsdej      thebottom55555      -0.9001   \n",
       "...       ...                 ...          ...   \n",
       "38564  gjk1kn             lanbory       0.9100   \n",
       "38565  geep0m         nugget_alex       0.9100   \n",
       "38566  gf82gf            staron79       0.9299   \n",
       "38568  gmrguc            TCS13579       0.9001   \n",
       "38570  geakkd         TeekaTiwari       0.9185   \n",
       "\n",
       "                                                   title  created_utc  \\\n",
       "0                Fuck tesla and fuck elon too. Bitch ass   1620861686   \n",
       "1      Bitcoin price falling ensures that fraudulent ...   1621951391   \n",
       "2      I am going to kill myself! YOU WANNA ROCK AND ...   1621429643   \n",
       "3      Panic sold at almost exactly the lowest point ...   1621467437   \n",
       "4                            Sell sell sell buy safemoon   1621388169   \n",
       "...                                                  ...          ...   \n",
       "38564  A team of cryptocurrency enthusiasts, blockcha...   1589453401   \n",
       "38565  Former IMF Chief Economist Prof Ken Rogoff Cal...   1588746239   \n",
       "38566  I'm very interested in buying Bitcoin, what ar...   1588863458   \n",
       "38568  should i invest in proof of trust ltd ?!? PLEA...   1589904419   \n",
       "38570  STUNNING BUY ALERT: Man who picked Apple, Bitc...   1588728159   \n",
       "\n",
       "       num_comments  score  \n",
       "0                 0      1  \n",
       "1                14      1  \n",
       "2                16      1  \n",
       "3                26      1  \n",
       "4                 0      1  \n",
       "...             ...    ...  \n",
       "38564             0      1  \n",
       "38565             3      1  \n",
       "38566             7      1  \n",
       "38568             4      0  \n",
       "38570             3      2  \n",
       "\n",
       "[33417 rows x 7 columns]"
      ]
     },
     "execution_count": 14,
     "metadata": {},
     "output_type": "execute_result"
    }
   ],
   "source": [
    "df"
   ]
  },
  {
   "cell_type": "markdown",
   "metadata": {},
   "source": [
    "####  기존의 38000개에서 4000개 정도 감축 완료\n",
    "* 광고성 글과 url 포함 게시글을 삭제했더니 약 12% 정도의 글을 걸러낼 수 있었다."
   ]
  },
  {
   "cell_type": "code",
   "execution_count": 18,
   "metadata": {},
   "outputs": [
    {
     "data": {
      "text/plain": [
       "(array([ 250.,  910., 1825., 1771., 2048., 1804., 2560., 1352., 1759.,\n",
       "        3300.,  362., 1743., 1659., 2506., 1572., 1557., 1899., 1785.,\n",
       "        1657., 1098.]),\n",
       " array([-0.9881  , -0.888775, -0.78945 , -0.690125, -0.5908  , -0.491475,\n",
       "        -0.39215 , -0.292825, -0.1935  , -0.094175,  0.00515 ,  0.104475,\n",
       "         0.2038  ,  0.303125,  0.40245 ,  0.501775,  0.6011  ,  0.700425,\n",
       "         0.79975 ,  0.899075,  0.9984  ]),\n",
       " <BarContainer object of 20 artists>)"
      ]
     },
     "execution_count": 18,
     "metadata": {},
     "output_type": "execute_result"
    },
    {
     "data": {
      "image/png": "[encoded data removed]",
      "text/plain": [
       "<Figure size 432x288 with 1 Axes>"
      ]
     },
     "metadata": {
      "needs_background": "light"
     },
     "output_type": "display_data"
    }
   ],
   "source": [
    "#삭제를 진행한 이후에 vader value 분포\n",
    "plt.hist(df['title_vader'],color='blue',edgecolor='black',bins = int(20))"
   ]
  },
  {
   "cell_type": "markdown",
   "metadata": {},
   "source": [
    "#### 학습 데이터를 생성해보자\n",
    "* vader의 수치가 높은 값들은 정확도가 높을 것이라 가정하고 학습용 데이터를 생성해보자.\n",
    "* 절대 값이 0.6 이상인 긍정이나 부정의 감정이 뚜렷히 보이는 데이터로만 구축한다."
   ]
  },
  {
   "cell_type": "code",
   "execution_count": 23,
   "metadata": {},
   "outputs": [],
   "source": [
    "train_data = df.loc[np.abs(df['title_vader']) > 0.6] "
   ]
  },
  {
   "cell_type": "code",
   "execution_count": 24,
   "metadata": {},
   "outputs": [
    {
     "data": {
      "text/plain": [
       "(array([ 250.,  910., 1825., 1549.,    0.,    0.,    0.,    0.,    0.,\n",
       "           0.,    0.,    0.,    0.,    0.,    0.,    4., 1899., 1785.,\n",
       "        1657., 1098.]),\n",
       " array([-0.9881  , -0.888775, -0.78945 , -0.690125, -0.5908  , -0.491475,\n",
       "        -0.39215 , -0.292825, -0.1935  , -0.094175,  0.00515 ,  0.104475,\n",
       "         0.2038  ,  0.303125,  0.40245 ,  0.501775,  0.6011  ,  0.700425,\n",
       "         0.79975 ,  0.899075,  0.9984  ]),\n",
       " <BarContainer object of 20 artists>)"
      ]
     },
     "execution_count": 24,
     "metadata": {},
     "output_type": "execute_result"
    },
    {
     "data": {
      "image/png": "[encoded data removed]",
      "text/plain": [
       "<Figure size 432x288 with 1 Axes>"
      ]
     },
     "metadata": {
      "needs_background": "light"
     },
     "output_type": "display_data"
    }
   ],
   "source": [
    "plt.hist(train_data['title_vader'],color='blue',edgecolor='black',bins = int(20))"
   ]
  },
  {
   "cell_type": "code",
   "execution_count": 25,
   "metadata": {},
   "outputs": [
    {
     "data": {
      "text/html": [
       "<div>\n",
       "<style scoped>\n",
       "    .dataframe tbody tr th:only-of-type {\n",
       "        vertical-align: middle;\n",
       "    }\n",
       "\n",
       "    .dataframe tbody tr th {\n",
       "        vertical-align: top;\n",
       "    }\n",
       "\n",
       "    .dataframe thead th {\n",
       "        text-align: right;\n",
       "    }\n",
       "</style>\n",
       "<table border=\"1\" class=\"dataframe\">\n",
       "  <thead>\n",
       "    <tr style=\"text-align: right;\">\n",
       "      <th></th>\n",
       "      <th>title_vader</th>\n",
       "      <th>created_utc</th>\n",
       "      <th>num_comments</th>\n",
       "      <th>score</th>\n",
       "    </tr>\n",
       "  </thead>\n",
       "  <tbody>\n",
       "    <tr>\n",
       "      <th>count</th>\n",
       "      <td>10977.000000</td>\n",
       "      <td>1.097700e+04</td>\n",
       "      <td>10977.000000</td>\n",
       "      <td>10977.000000</td>\n",
       "    </tr>\n",
       "    <tr>\n",
       "      <th>mean</th>\n",
       "      <td>0.151075</td>\n",
       "      <td>1.609104e+09</td>\n",
       "      <td>14.535301</td>\n",
       "      <td>3.631047</td>\n",
       "    </tr>\n",
       "    <tr>\n",
       "      <th>std</th>\n",
       "      <td>0.747174</td>\n",
       "      <td>1.646822e+07</td>\n",
       "      <td>55.989973</td>\n",
       "      <td>60.506516</td>\n",
       "    </tr>\n",
       "    <tr>\n",
       "      <th>min</th>\n",
       "      <td>-0.988100</td>\n",
       "      <td>1.577817e+09</td>\n",
       "      <td>0.000000</td>\n",
       "      <td>0.000000</td>\n",
       "    </tr>\n",
       "    <tr>\n",
       "      <th>25%</th>\n",
       "      <td>-0.700300</td>\n",
       "      <td>1.594862e+09</td>\n",
       "      <td>0.000000</td>\n",
       "      <td>1.000000</td>\n",
       "    </tr>\n",
       "    <tr>\n",
       "      <th>50%</th>\n",
       "      <td>0.636900</td>\n",
       "      <td>1.610489e+09</td>\n",
       "      <td>2.000000</td>\n",
       "      <td>1.000000</td>\n",
       "    </tr>\n",
       "    <tr>\n",
       "      <th>75%</th>\n",
       "      <td>0.800200</td>\n",
       "      <td>1.622846e+09</td>\n",
       "      <td>11.000000</td>\n",
       "      <td>1.000000</td>\n",
       "    </tr>\n",
       "    <tr>\n",
       "      <th>max</th>\n",
       "      <td>0.998400</td>\n",
       "      <td>1.636030e+09</td>\n",
       "      <td>2735.000000</td>\n",
       "      <td>5026.000000</td>\n",
       "    </tr>\n",
       "  </tbody>\n",
       "</table>\n",
       "</div>"
      ],
      "text/plain": [
       "        title_vader   created_utc  num_comments         score\n",
       "count  10977.000000  1.097700e+04  10977.000000  10977.000000\n",
       "mean       0.151075  1.609104e+09     14.535301      3.631047\n",
       "std        0.747174  1.646822e+07     55.989973     60.506516\n",
       "min       -0.988100  1.577817e+09      0.000000      0.000000\n",
       "25%       -0.700300  1.594862e+09      0.000000      1.000000\n",
       "50%        0.636900  1.610489e+09      2.000000      1.000000\n",
       "75%        0.800200  1.622846e+09     11.000000      1.000000\n",
       "max        0.998400  1.636030e+09   2735.000000   5026.000000"
      ]
     },
     "execution_count": 25,
     "metadata": {},
     "output_type": "execute_result"
    }
   ],
   "source": [
    "train_data.describe()"
   ]
  },
  {
   "cell_type": "code",
   "execution_count": 26,
   "metadata": {},
   "outputs": [],
   "source": [
    "train_data.to_csv('train_data.csv')"
   ]
  }
 ],
 "metadata": {
  "interpreter": {
   "hash": "67a9d45133f1a9e4e6de0dcd9787e83ef7d08e0d5bdd34045d03563c32d8ac89"
  },
  "kernelspec": {
   "display_name": "Python 3.8.5 64-bit ('py_3.8': conda)",
   "language": "python",
   "name": "python3"
  },
  "language_info": {
   "codemirror_mode": {
    "name": "ipython",
    "version": 3
   },
   "file_extension": ".py",
   "mimetype": "text/x-python",
   "name": "python",
   "nbconvert_exporter": "python",
   "pygments_lexer": "ipython3",
   "version": "3.8.5"
  },
  "orig_nbformat": 4
 },
 "nbformat": 4,
 "nbformat_minor": 2
}
