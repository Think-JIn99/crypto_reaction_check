{
 "cells": [
  {
   "cell_type": "code",
   "execution_count": 1,
   "metadata": {},
   "outputs": [],
   "source": [
    "import os\n",
    "import pandas as pd\n",
    "import numpy as np\n",
    "import re"
   ]
  },
  {
   "cell_type": "code",
   "execution_count": 2,
   "metadata": {},
   "outputs": [],
   "source": [
    "def change_file_name(path = './', patt = '(\\d{4}.\\d{2}.\\d{2})', extension = '.csv'):\n",
    "    # patt = re.compile('(\\d{4}.\\d{2}.\\d{2})')\n",
    "    file_extension = '.csv'\n",
    "    # path = '../../remove_data'\n",
    "    for name in os.listdir(path):\n",
    "        new_name = re.search(patt, name)\n",
    "        old_file = os.path.join(path, name)\n",
    "        new_file = os.path.join(path, new_name.group() + extension)\n",
    "        os.rename(old_file,new_file)\n"
   ]
  },
  {
   "cell_type": "code",
   "execution_count": 3,
   "metadata": {},
   "outputs": [],
   "source": [
    "def concat_csv(path = '../'):\n",
    "    li = []\n",
    "    for f in os.listdir(path):\n",
    "        df = pd.read_csv(path + f,index_col=None,header=0)\n",
    "        li.append(df)\n",
    "    frame = pd.concat(li,axis=0,ignore_index=True)\n",
    "    return frame"
   ]
  },
  {
   "cell_type": "code",
   "execution_count": 37,
   "metadata": {},
   "outputs": [],
   "source": [
    "res = concat_csv('../../remove_data/')\n",
    "res.columns = ['index','title']\n",
    "res.to_csv('remove_total.csv')"
   ]
  }
 ],
 "metadata": {
  "interpreter": {
   "hash": "67a9d45133f1a9e4e6de0dcd9787e83ef7d08e0d5bdd34045d03563c32d8ac89"
  },
  "kernelspec": {
   "display_name": "Python 3.8.5 64-bit ('py_3.8': conda)",
   "language": "python",
   "name": "python3"
  },
  "language_info": {
   "codemirror_mode": {
    "name": "ipython",
    "version": 3
   },
   "file_extension": ".py",
   "mimetype": "text/x-python",
   "name": "python",
   "nbconvert_exporter": "python",
   "pygments_lexer": "ipython3",
   "version": "3.8.5"
  },
  "orig_nbformat": 4
 },
 "nbformat": 4,
 "nbformat_minor": 2
}
