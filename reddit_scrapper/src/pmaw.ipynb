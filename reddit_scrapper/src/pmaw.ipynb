{
 "cells": [
  {
   "cell_type": "code",
   "execution_count": 2,
   "metadata": {},
   "outputs": [],
   "source": [
    "from pmaw import PushshiftAPI\n",
    "import pandas as pd\n",
    "import os.path\n",
    "import datetime as dt\n",
    "from dateutil.relativedelta import relativedelta"
   ]
  },
  {
   "cell_type": "code",
   "execution_count": 3,
   "metadata": {},
   "outputs": [],
   "source": [
    "api = PushshiftAPI()\n",
    "_subreddit = 'Bitcoin'\n",
    "_after = dt.datetime(2020,7,1)\n",
    "dir_name = _after.strftime('%Y-%m-%d')\n",
    "os.mkdir(f'./{dir_name}')\n"
   ]
  },
  {
   "cell_type": "code",
   "execution_count": 4,
   "metadata": {},
   "outputs": [],
   "source": [
    "def convert_to_df(submissions) -> pd.DataFrame:\n",
    "    columns = [\n",
    "        'id',\n",
    "        'author',\n",
    "        'title',\n",
    "        'selftext',\n",
    "        'created_utc',\n",
    "        'num_comments',\n",
    "        'score',\n",
    "    ]\n",
    "    df = pd.DataFrame(submissions)\n",
    "    return df[::][columns]"
   ]
  },
  {
   "cell_type": "code",
   "execution_count": 5,
   "metadata": {},
   "outputs": [
    {
     "name": "stdout",
     "output_type": "stream",
     "text": [
      "INFO:pmaw.PushshiftAPIBase:Checkpoint:: Success Rate: 97.00% - Requests: 100 - Batches: 10 - Items Remaining: 9880\n",
      "INFO:pmaw.PushshiftAPIBase:Checkpoint:: Success Rate: 96.00% - Requests: 200 - Batches: 20 - Items Remaining: 2118\n",
      "INFO:pmaw.PushshiftAPIBase:Total:: Success Rate: 95.58% - Requests: 249 - Batches: 26 - Items Remaining: 9\n",
      "INFO:pmaw.PushshiftAPIBase:9 result(s) not found in Pushshift\n",
      "2021-07-01 00:00:00\n",
      "INFO:pmaw.PushshiftAPIBase:86212 result(s) not found in Pushshift\n",
      "INFO:pmaw.PushshiftAPIBase:Checkpoint:: Success Rate: 92.00% - Requests: 100 - Batches: 10 - Items Remaining: 4590\n",
      "INFO:pmaw.PushshiftAPIBase:Total:: Success Rate: 93.26% - Requests: 178 - Batches: 18 - Items Remaining: 3\n",
      "INFO:pmaw.PushshiftAPIBase:3 result(s) not found in Pushshift\n",
      "2021-08-01 00:00:00\n",
      "INFO:pmaw.PushshiftAPIBase:89846 result(s) not found in Pushshift\n",
      "INFO:pmaw.PushshiftAPIBase:Checkpoint:: Success Rate: 91.00% - Requests: 100 - Batches: 10 - Items Remaining: 1622\n",
      "INFO:pmaw.PushshiftAPIBase:Total:: Success Rate: 93.23% - Requests: 133 - Batches: 14 - Items Remaining: 3\n",
      "INFO:pmaw.PushshiftAPIBase:3 result(s) not found in Pushshift\n"
     ]
    }
   ],
   "source": [
    "end_point = _after + relativedelta(years = 1)\n",
    "while _after <= end_point:\n",
    "    _before = _after + relativedelta(months = 1)\n",
    "    print(_before)\n",
    "    submissions = api.search_submissions(subreddit = _subreddit, limit = 100000, before = int(_before.timestamp()), after = int(_after.timestamp()))\n",
    "    if not submissions:\n",
    "        break\n",
    "    else:\n",
    "        submissions_df = convert_to_df(submissions)\n",
    "        path = f'./{dir_name}/{_after}.csv'\n",
    "        if os.path.exists(path):\n",
    "            submissions_df.to_csv(path, sep = ',', mode ='a', header = False, index = False)\n",
    "        else:\n",
    "            submissions_df.to_csv(path, sep=',',index = False)\n",
    "    _after += relativedelta(months = 1)\n",
    "        \n"
   ]
  }
 ],
 "metadata": {
  "interpreter": {
   "hash": "67a9d45133f1a9e4e6de0dcd9787e83ef7d08e0d5bdd34045d03563c32d8ac89"
  },
  "kernelspec": {
   "display_name": "Python 3.8.5 64-bit ('py_3.8': conda)",
   "name": "python3"
  },
  "language_info": {
   "codemirror_mode": {
    "name": "ipython",
    "version": 3
   },
   "file_extension": ".py",
   "mimetype": "text/x-python",
   "name": "python",
   "nbconvert_exporter": "python",
   "pygments_lexer": "ipython3",
   "version": "3.8.5"
  },
  "orig_nbformat": 4
 },
 "nbformat": 4,
 "nbformat_minor": 2
}
