{
 "cells": [
  {
   "cell_type": "code",
   "execution_count": 1,
   "metadata": {},
   "outputs": [],
   "source": [
    "import pandas as pd\n",
    "import numpy as np\n",
    "import os"
   ]
  },
  {
   "cell_type": "code",
   "execution_count": 30,
   "metadata": {},
   "outputs": [
    {
     "data": {
      "text/plain": [
       "Unnamed: 0      0\n",
       "id              0\n",
       "body           84\n",
       "created_utc     0\n",
       "score           0\n",
       "link_id         0\n",
       "parent_id       0\n",
       "vader           0\n",
       "dtype: int64"
      ]
     },
     "execution_count": 30,
     "metadata": {},
     "output_type": "execute_result"
    }
   ],
   "source": [
    "df = pd.read_csv('2020-09-01.csv')\n",
    "df.isna().sum()"
   ]
  },
  {
   "cell_type": "code",
   "execution_count": 4,
   "metadata": {},
   "outputs": [],
   "source": [
    "df2 = pd.read_csv('../2021-06-01.csv')"
   ]
  },
  {
   "cell_type": "code",
   "execution_count": 24,
   "metadata": {},
   "outputs": [],
   "source": [
    "index = np.where(df['body'].isna() == True)\n",
    "index = df['Unnamed: 0'].iloc[index]"
   ]
  },
  {
   "cell_type": "code",
   "execution_count": 25,
   "metadata": {},
   "outputs": [],
   "source": [
    "rm_df = df2.iloc[index]"
   ]
  },
  {
   "cell_type": "code",
   "execution_count": 26,
   "metadata": {},
   "outputs": [
    {
     "name": "stderr",
     "output_type": "stream",
     "text": [
      "/Users/jin/opt/anaconda3/envs/py_3.8/lib/python3.8/site-packages/pandas/core/series.py:4479: SettingWithCopyWarning: \n",
      "A value is trying to be set on a copy of a slice from a DataFrame\n",
      "\n",
      "See the caveats in the documentation: https://pandas.pydata.org/pandas-docs/stable/user_guide/indexing.html#returning-a-view-versus-a-copy\n",
      "  return super().replace(\n"
     ]
    },
    {
     "data": {
      "text/html": [
       "<div>\n",
       "<style scoped>\n",
       "    .dataframe tbody tr th:only-of-type {\n",
       "        vertical-align: middle;\n",
       "    }\n",
       "\n",
       "    .dataframe tbody tr th {\n",
       "        vertical-align: top;\n",
       "    }\n",
       "\n",
       "    .dataframe thead th {\n",
       "        text-align: right;\n",
       "    }\n",
       "</style>\n",
       "<table border=\"1\" class=\"dataframe\">\n",
       "  <thead>\n",
       "    <tr style=\"text-align: right;\">\n",
       "      <th></th>\n",
       "      <th>id</th>\n",
       "      <th>body</th>\n",
       "      <th>created_utc</th>\n",
       "      <th>score</th>\n",
       "      <th>link_id</th>\n",
       "      <th>parent_id</th>\n",
       "    </tr>\n",
       "  </thead>\n",
       "  <tbody>\n",
       "    <tr>\n",
       "      <th>343</th>\n",
       "      <td>h16htey</td>\n",
       "      <td></td>\n",
       "      <td>1623261171</td>\n",
       "      <td>1</td>\n",
       "      <td>t3_nvwsus</td>\n",
       "      <td>t3_nvwsus</td>\n",
       "    </tr>\n",
       "    <tr>\n",
       "      <th>395</th>\n",
       "      <td>h16u6z0</td>\n",
       "      <td></td>\n",
       "      <td>1623266199</td>\n",
       "      <td>2</td>\n",
       "      <td>t3_nvwr1w</td>\n",
       "      <td>t3_nvwr1w</td>\n",
       "    </tr>\n",
       "    <tr>\n",
       "      <th>397</th>\n",
       "      <td>h16ubms</td>\n",
       "      <td></td>\n",
       "      <td>1623266253</td>\n",
       "      <td>7</td>\n",
       "      <td>t3_nvwsus</td>\n",
       "      <td>t1_h15l2iq</td>\n",
       "    </tr>\n",
       "    <tr>\n",
       "      <th>460</th>\n",
       "      <td>h189c4k</td>\n",
       "      <td></td>\n",
       "      <td>1623289162</td>\n",
       "      <td>1</td>\n",
       "      <td>t3_nvwsus</td>\n",
       "      <td>t3_nvwsus</td>\n",
       "    </tr>\n",
       "    <tr>\n",
       "      <th>807</th>\n",
       "      <td>h0t6uz2</td>\n",
       "      <td></td>\n",
       "      <td>1622997870</td>\n",
       "      <td>4</td>\n",
       "      <td>t3_ntj6q0</td>\n",
       "      <td>t1_h0t4q7z</td>\n",
       "    </tr>\n",
       "    <tr>\n",
       "      <th>...</th>\n",
       "      <td>...</td>\n",
       "      <td>...</td>\n",
       "      <td>...</td>\n",
       "      <td>...</td>\n",
       "      <td>...</td>\n",
       "      <td>...</td>\n",
       "    </tr>\n",
       "    <tr>\n",
       "      <th>205816</th>\n",
       "      <td>h2r2uxb</td>\n",
       "      <td></td>\n",
       "      <td>1624442342</td>\n",
       "      <td>1</td>\n",
       "      <td>t3_o5mps1</td>\n",
       "      <td>t1_h2p6qpx</td>\n",
       "    </tr>\n",
       "    <tr>\n",
       "      <th>206594</th>\n",
       "      <td>h2d7n70</td>\n",
       "      <td></td>\n",
       "      <td>1624140125</td>\n",
       "      <td>1</td>\n",
       "      <td>t3_o38q9c</td>\n",
       "      <td>t1_h2ctguv</td>\n",
       "    </tr>\n",
       "    <tr>\n",
       "      <th>206612</th>\n",
       "      <td>h2dc2gn</td>\n",
       "      <td></td>\n",
       "      <td>1624142623</td>\n",
       "      <td>2</td>\n",
       "      <td>t3_o38q9c</td>\n",
       "      <td>t1_h2dalwm</td>\n",
       "    </tr>\n",
       "    <tr>\n",
       "      <th>206721</th>\n",
       "      <td>h2dscm1</td>\n",
       "      <td></td>\n",
       "      <td>1624152104</td>\n",
       "      <td>1</td>\n",
       "      <td>t3_o38q9c</td>\n",
       "      <td>t1_h2drwyd</td>\n",
       "    </tr>\n",
       "    <tr>\n",
       "      <th>208116</th>\n",
       "      <td>h2qb1im</td>\n",
       "      <td></td>\n",
       "      <td>1624419673</td>\n",
       "      <td>2</td>\n",
       "      <td>t3_o5lhmu</td>\n",
       "      <td>t1_h2q3rep</td>\n",
       "    </tr>\n",
       "  </tbody>\n",
       "</table>\n",
       "<p>596 rows × 6 columns</p>\n",
       "</div>"
      ],
      "text/plain": [
       "             id body  created_utc  score    link_id   parent_id\n",
       "343     h16htey        1623261171      1  t3_nvwsus   t3_nvwsus\n",
       "395     h16u6z0        1623266199      2  t3_nvwr1w   t3_nvwr1w\n",
       "397     h16ubms        1623266253      7  t3_nvwsus  t1_h15l2iq\n",
       "460     h189c4k        1623289162      1  t3_nvwsus   t3_nvwsus\n",
       "807     h0t6uz2        1622997870      4  t3_ntj6q0  t1_h0t4q7z\n",
       "...         ...  ...          ...    ...        ...         ...\n",
       "205816  h2r2uxb        1624442342      1  t3_o5mps1  t1_h2p6qpx\n",
       "206594  h2d7n70        1624140125      1  t3_o38q9c  t1_h2ctguv\n",
       "206612  h2dc2gn        1624142623      2  t3_o38q9c  t1_h2dalwm\n",
       "206721  h2dscm1        1624152104      1  t3_o38q9c  t1_h2drwyd\n",
       "208116  h2qb1im        1624419673      2  t3_o5lhmu  t1_h2q3rep\n",
       "\n",
       "[596 rows x 6 columns]"
      ]
     },
     "execution_count": 26,
     "metadata": {},
     "output_type": "execute_result"
    }
   ],
   "source": [
    "import re\n",
    "rm_df['body'].replace(r\"[^a-zA-Z ]\",'',regex = True,inplace=True)\n",
    "# patt_find = rm_df['body'].str.findall(patt)\n",
    "# valid_index = np.where(patt_find.apply(len) == 0, True, False)\n",
    "# rm_df.loc[valid_index]\n",
    "rm_df"
   ]
  },
  {
   "cell_type": "code",
   "execution_count": 20,
   "metadata": {},
   "outputs": [],
   "source": [
    "df.dropna(inplace=True)"
   ]
  }
 ],
 "metadata": {
  "interpreter": {
   "hash": "67a9d45133f1a9e4e6de0dcd9787e83ef7d08e0d5bdd34045d03563c32d8ac89"
  },
  "kernelspec": {
   "display_name": "Python 3.8.5 64-bit ('py_3.8': conda)",
   "language": "python",
   "name": "python3"
  },
  "language_info": {
   "codemirror_mode": {
    "name": "ipython",
    "version": 3
   },
   "file_extension": ".py",
   "mimetype": "text/x-python",
   "name": "python",
   "nbconvert_exporter": "python",
   "pygments_lexer": "ipython3",
   "version": "3.8.5"
  },
  "orig_nbformat": 4
 },
 "nbformat": 4,
 "nbformat_minor": 2
}
