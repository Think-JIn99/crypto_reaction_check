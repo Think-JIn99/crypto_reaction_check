{
 "cells": [
  {
   "cell_type": "code",
   "execution_count": 1,
   "outputs": [
    {
     "name": "stdout",
     "output_type": "stream",
     "text": [
      "True\n"
     ]
    }
   ],
   "source": [
    "import praw\n",
    "reddit = praw.Reddit(\n",
    "    client_id=\"_i0Z1_b3Xs0LGPdfGqt3JQ\",\n",
    "    client_secret=\"iplaFZ16URV1GQVtBpAaWaCg9V51pA\",\n",
    "    user_agent=\"CryptoScrap by /u/LunarJun\",\n",
    ")\n",
    "print(reddit.read_only)"
   ],
   "metadata": {
    "collapsed": false,
    "pycharm": {
     "name": "#%%\n"
    }
   }
  },
  {
   "cell_type": "code",
   "execution_count": 2,
   "outputs": [
    {
     "name": "stdout",
     "output_type": "stream",
     "text": [
      "        id                                              title   created_utc\n",
      "0   r9dyog                                        Just saying  1.638704e+09\n",
      "0   r9duxj                                             Scam…?  1.638704e+09\n",
      "0   r9do3w  Please explain how 2.5 billion liquidations ca...  1.638703e+09\n",
      "0   r9dkgu                       The biggest risk for Bitcoin  1.638703e+09\n",
      "0   r9dghb  Would you rather own 1% of all bitcoins, 0.5% ...  1.638702e+09\n",
      "..     ...                                                ...           ...\n",
      "0   r8wohy   I bought another .1 Bitcoin - Thanks to the dip!  1.638645e+09\n",
      "0   r8wfio  What is the script assembly and execution in P...  1.638644e+09\n",
      "0   r8walo                           Some advice for today ☯️  1.638644e+09\n",
      "0   r8w17t                  Mission - destruction of leverage  1.638643e+09\n",
      "0   r8vwpe  when theres a clean cut drop like that, is it ...  1.638643e+09\n",
      "\n",
      "[100 rows x 3 columns]\n"
     ]
    }
   ],
   "source": [
    "import pandas as pd\n",
    "\n",
    "def submission_to_df(submission) -> pd.DataFrame:\n",
    "    df = pd.DataFrame({'id':[submission.id],\n",
    "                       'title':[submission.title],\n",
    "                       'created_utc':[submission.created_utc]})\n",
    "    return df[::][::]\n",
    "\n",
    "subreddit = reddit.subreddit(\"Bitcoin\")\n",
    "submissions_df = pd.DataFrame()\n",
    "for submission in subreddit.new(limit=100):\n",
    "    submissions_df = submissions_df.append(submission_to_df(submission))\n",
    "\n",
    "print(submissions_df)\n"
   ],
   "metadata": {
    "collapsed": false,
    "pycharm": {
     "name": "#%%\n"
    }
   }
  },
  {
   "cell_type": "code",
   "execution_count": 2,
   "outputs": [],
   "source": [],
   "metadata": {
    "collapsed": false,
    "pycharm": {
     "name": "#%%\n"
    }
   }
  }
 ],
 "metadata": {
  "kernelspec": {
   "display_name": "Python 3",
   "language": "python",
   "name": "python3"
  },
  "language_info": {
   "codemirror_mode": {
    "name": "ipython",
    "version": 2
   },
   "file_extension": ".py",
   "mimetype": "text/x-python",
   "name": "python",
   "nbconvert_exporter": "python",
   "pygments_lexer": "ipython2",
   "version": "2.7.6"
  }
 },
 "nbformat": 4,
 "nbformat_minor": 0
}