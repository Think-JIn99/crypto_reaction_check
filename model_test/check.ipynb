{
 "cells": [
  {
   "cell_type": "code",
   "execution_count": 1,
   "metadata": {},
   "outputs": [],
   "source": [
    "import pandas as pd\n",
    "import numpy as np\n",
    "import os\n",
    "import sys\n",
    "# sys.path.append(\"../../reddit_scrapper/src\")\n",
    "# from apply_vader import get_vader_df"
   ]
  },
  {
   "cell_type": "code",
   "execution_count": 12,
   "metadata": {},
   "outputs": [],
   "source": [
    "df = pd.read_csv('./modelpredict.csv')\n",
    "df.dropna(inplace=True)\n",
    "df = df.drop_duplicates(['title'],keep='first') #중복 처리를 해준다."
   ]
  },
  {
   "cell_type": "code",
   "execution_count": 13,
   "metadata": {},
   "outputs": [],
   "source": [
    "df['compare'] = np.where(df['vader'] >= 0.5,\"pos\",df['vader'])\n",
    "df['compare'] = np.where((df['vader'] > -0.5) & (df['vader'] < 0.5) ,\"neu\",df['compare'])\n",
    "df['compare'] = np.where(df['vader'] <= -0.5,\"neg\",df['compare'])"
   ]
  },
  {
   "cell_type": "code",
   "execution_count": 14,
   "metadata": {},
   "outputs": [],
   "source": [
    "differ = df[df['label'] != df['compare']]"
   ]
  },
  {
   "cell_type": "code",
   "execution_count": 19,
   "metadata": {},
   "outputs": [],
   "source": [
    "differ.to_csv('compare.csv',index=None)"
   ]
  },
  {
   "cell_type": "code",
   "execution_count": 23,
   "metadata": {},
   "outputs": [],
   "source": [
    "most_differ = differ.loc[(differ['label'] != \"neu\") & (differ['compare'] != \"neu\")]"
   ]
  },
  {
   "cell_type": "code",
   "execution_count": 24,
   "metadata": {},
   "outputs": [],
   "source": [
    "most_differ.to_csv('most_differ.csv')"
   ]
  }
 ],
 "metadata": {
  "interpreter": {
   "hash": "67a9d45133f1a9e4e6de0dcd9787e83ef7d08e0d5bdd34045d03563c32d8ac89"
  },
  "kernelspec": {
   "display_name": "Python 3.8.5 64-bit ('py_3.8': conda)",
   "language": "python",
   "name": "python3"
  },
  "language_info": {
   "codemirror_mode": {
    "name": "ipython",
    "version": 3
   },
   "file_extension": ".py",
   "mimetype": "text/x-python",
   "name": "python",
   "nbconvert_exporter": "python",
   "pygments_lexer": "ipython3",
   "version": "3.8.5"
  },
  "orig_nbformat": 4
 },
 "nbformat": 4,
 "nbformat_minor": 2
}
