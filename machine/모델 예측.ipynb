{
 "cells": [
  {
   "cell_type": "code",
   "execution_count": 68,
   "id": "1564c298",
   "metadata": {
    "scrolled": false
   },
   "outputs": [
    {
     "name": "stderr",
     "output_type": "stream",
     "text": [
      "D:\\ananconda\\lib\\site-packages\\pandas\\core\\indexing.py:1732: SettingWithCopyWarning: \n",
      "A value is trying to be set on a copy of a slice from a DataFrame\n",
      "\n",
      "See the caveats in the documentation: https://pandas.pydata.org/pandas-docs/stable/user_guide/indexing.html#returning-a-view-versus-a-copy\n",
      "  self._setitem_single_block(indexer, value, name)\n",
      "C:\\Users\\user\\AppData\\Local\\Temp/ipykernel_16640/2824680112.py:36: FutureWarning: The default value of regex will change from True to False in a future version.\n",
      "  test['title'] = test['title'].str.replace('^ +', \"\")\n"
     ]
    }
   ],
   "source": [
    "import torch\n",
    "\n",
    "from transformers import BertTokenizer\n",
    "from transformers import BertForSequenceClassification, AdamW, BertConfig\n",
    "from transformers import get_linear_schedule_with_warmup\n",
    "from torch.utils.data import TensorDataset, DataLoader, RandomSampler, SequentialSampler\n",
    "from tensorflow.keras.preprocessing.sequence import pad_sequences\n",
    "from sklearn.model_selection import train_test_split\n",
    "\n",
    "import pandas as pd\n",
    "import numpy as np\n",
    "import random\n",
    "import time\n",
    "import datetime\n",
    "import re\n",
    "import os\n",
    "t = pd.read_table('train.txt', encoding='utf-8')\n",
    "\n",
    "t['vader']=t['vader'].apply(pd.to_numeric,errors='coerce').fillna(2)\n",
    "test=pd.DataFrame({'title':[],'label':[]})\n",
    "i=0\n",
    "for x in range(len(t)):\n",
    "    if 0.9<float(t['vader'][x])<=1.0:\n",
    "        test.loc[i,'title']=t['title'][x]\n",
    "        test.loc[i,'label']=1\n",
    "        i=i+1\n",
    "for x in range(len(t)):\n",
    "    if -1.0<=float(t['vader'][x])<-0.9:\n",
    "        test.loc[i,'title']=t['title'][x]\n",
    "        test.loc[i,'label']=2\n",
    "        i=i+1\n",
    "test['title'].nunique()\n",
    "test.drop_duplicates(subset=['title'], inplace=True)\n",
    "for x in range(len(test)):\n",
    "    test['title'].iloc[x]=re.sub(r'[^a-zA-Z ]', '',str(test['title'].iloc[x]))\n",
    "test['title'] = test['title'].str.replace('^ +', \"\")\n",
    "test['title'].replace('', np.nan, inplace=True)"
   ]
  },
  {
   "cell_type": "code",
   "execution_count": 58,
   "id": "ebcc8505",
   "metadata": {},
   "outputs": [],
   "source": [
    "tokenizer = BertTokenizer.from_pretrained('bert-base-multilingual-cased', do_lower_case=False)\n",
    "# 입력 데이터 변환\n",
    "def convert_input_data(sentences):\n",
    "    sentences = [\"[CLS] \" + str(sentence) + \" [SEP]\" for sentence in sentences]\n",
    "    # BERT의 토크나이저로 문장을 토큰으로 분리\n",
    "    tokenized_texts = [tokenizer.tokenize(sent) for sent in sentences]\n",
    "\n",
    "    # 입력 토큰의 최대 시퀀스 길이\n",
    "    MAX_LEN = 128\n",
    "\n",
    "    # 토큰을 숫자 인덱스로 변환\n",
    "    input_ids = [tokenizer.convert_tokens_to_ids(x) for x in tokenized_texts]\n",
    "    \n",
    "    # 문장을 MAX_LEN 길이에 맞게 자르고, 모자란 부분을 패딩 0으로 채움\n",
    "    input_ids = pad_sequences(input_ids, maxlen=MAX_LEN, dtype=\"long\", truncating=\"post\", padding=\"post\")\n",
    "\n",
    "    # 어텐션 마스크 초기화\n",
    "    attention_masks = []\n",
    "\n",
    "    # 어텐션 마스크를 패딩이 아니면 1, 패딩이면 0으로 설정\n",
    "    # 패딩 부분은 BERT 모델에서 어텐션을 수행하지 않아 속도 향상\n",
    "    for seq in input_ids:\n",
    "        seq_mask = [float(i>0) for i in seq]\n",
    "        attention_masks.append(seq_mask)\n",
    "\n",
    "    # 데이터를 파이토치의 텐서로 변환\n",
    "    inputs = torch.tensor(input_ids).to(torch.int64)\n",
    "    masks = torch.tensor(attention_masks).to(torch.int64)\n",
    "\n",
    "    return inputs, masks"
   ]
  },
  {
   "cell_type": "code",
   "execution_count": 59,
   "id": "73f2cfd5",
   "metadata": {},
   "outputs": [],
   "source": [
    "# 문장 테스트\n",
    "def test_sentences(sentences):\n",
    "\n",
    "    # 평가모드로 변경\n",
    "    model.eval()\n",
    "\n",
    "    # 문장을 입력 데이터로 변환\n",
    "    inputs, masks = convert_input_data(sentences)\n",
    "\n",
    "    # 데이터를 GPU에 넣음\n",
    "    b_input_ids = inputs.to(device)\n",
    "    b_input_mask = masks.to(device)\n",
    "            \n",
    "    # 그래디언트 계산 안함\n",
    "    with torch.no_grad():     \n",
    "        # Forward 수행\n",
    "        outputs = model(b_input_ids, \n",
    "                        token_type_ids=None, \n",
    "                        attention_mask=b_input_mask)\n",
    "\n",
    "    # 로스 구함\n",
    "    logits = outputs[0]\n",
    "\n",
    "    # CPU로 데이터 이동\n",
    "    logits = logits.detach().cpu().numpy()\n",
    "\n",
    "    return logits"
   ]
  },
  {
   "cell_type": "code",
   "execution_count": 70,
   "id": "1938b803",
   "metadata": {
    "scrolled": true
   },
   "outputs": [],
   "source": [
    "test=test[300:446]"
   ]
  },
  {
   "cell_type": "code",
   "execution_count": 77,
   "id": "bf500bb0",
   "metadata": {},
   "outputs": [],
   "source": [
    "device = torch.device('cpu')\n",
    "model=torch.load('homebitcoinmodel',map_location=device)"
   ]
  },
  {
   "cell_type": "code",
   "execution_count": 82,
   "id": "7a440ef4",
   "metadata": {
    "scrolled": true
   },
   "outputs": [],
   "source": [
    "test=test.reset_index(drop=True)"
   ]
  },
  {
   "cell_type": "code",
   "execution_count": 84,
   "id": "c5245e85",
   "metadata": {
    "scrolled": true
   },
   "outputs": [],
   "source": [
    "result=pd.DataFrame({'title':[],'label':[]})\n",
    "for x in range(int(len(test))):\n",
    "    logits = test_sentences([test['title'][x]])\n",
    "    result.loc[x,'title']=test['title'][x]\n",
    "    if np.argmax(logits) == 1 :\n",
    "        result.loc[x,'label']='pos'\n",
    "        continue\n",
    "    elif np.argmax(logits) == 0 :\n",
    "        result.loc[x,'label']='neu'\n",
    "        continue\n",
    "    elif np.argmax(logits) == 2 :\n",
    "        result.loc[x,'label']='neg'\n",
    "        continue"
   ]
  },
  {
   "cell_type": "code",
   "execution_count": 85,
   "id": "89acc5ac",
   "metadata": {},
   "outputs": [
    {
     "data": {
      "text/html": [
       "<div>\n",
       "<style scoped>\n",
       "    .dataframe tbody tr th:only-of-type {\n",
       "        vertical-align: middle;\n",
       "    }\n",
       "\n",
       "    .dataframe tbody tr th {\n",
       "        vertical-align: top;\n",
       "    }\n",
       "\n",
       "    .dataframe thead th {\n",
       "        text-align: right;\n",
       "    }\n",
       "</style>\n",
       "<table border=\"1\" class=\"dataframe\">\n",
       "  <thead>\n",
       "    <tr style=\"text-align: right;\">\n",
       "      <th></th>\n",
       "      <th>title</th>\n",
       "      <th>label</th>\n",
       "    </tr>\n",
       "  </thead>\n",
       "  <tbody>\n",
       "    <tr>\n",
       "      <th>0</th>\n",
       "      <td>Risk Management Is The Most Important Subject ...</td>\n",
       "      <td>pos</td>\n",
       "    </tr>\n",
       "    <tr>\n",
       "      <th>1</th>\n",
       "      <td>To the moon  happy holding</td>\n",
       "      <td>pos</td>\n",
       "    </tr>\n",
       "    <tr>\n",
       "      <th>2</th>\n",
       "      <td>Is it too late to buy more ETH  I ducked up ye...</td>\n",
       "      <td>pos</td>\n",
       "    </tr>\n",
       "    <tr>\n",
       "      <th>3</th>\n",
       "      <td>WOOOOOOOOOO  TO THE MOON</td>\n",
       "      <td>pos</td>\n",
       "    </tr>\n",
       "    <tr>\n",
       "      <th>4</th>\n",
       "      <td>Proud of my Very first NFT on Rarible Very gra...</td>\n",
       "      <td>pos</td>\n",
       "    </tr>\n",
       "    <tr>\n",
       "      <th>...</th>\n",
       "      <td>...</td>\n",
       "      <td>...</td>\n",
       "    </tr>\n",
       "    <tr>\n",
       "      <th>141</th>\n",
       "      <td>Error during a swap I did on MetaMask It still...</td>\n",
       "      <td>neg</td>\n",
       "    </tr>\n",
       "    <tr>\n",
       "      <th>142</th>\n",
       "      <td>Todays Legit List</td>\n",
       "      <td>neu</td>\n",
       "    </tr>\n",
       "    <tr>\n",
       "      <th>143</th>\n",
       "      <td>Why is ethereum going up so early  i wanted to...</td>\n",
       "      <td>neu</td>\n",
       "    </tr>\n",
       "    <tr>\n",
       "      <th>144</th>\n",
       "      <td>Lost nearly  in transaction costs already beca...</td>\n",
       "      <td>neg</td>\n",
       "    </tr>\n",
       "    <tr>\n",
       "      <th>145</th>\n",
       "      <td>When people panic sell their ETH instead of bu...</td>\n",
       "      <td>neg</td>\n",
       "    </tr>\n",
       "  </tbody>\n",
       "</table>\n",
       "<p>146 rows × 2 columns</p>\n",
       "</div>"
      ],
      "text/plain": [
       "                                                 title label\n",
       "0    Risk Management Is The Most Important Subject ...   pos\n",
       "1                           To the moon  happy holding   pos\n",
       "2    Is it too late to buy more ETH  I ducked up ye...   pos\n",
       "3                             WOOOOOOOOOO  TO THE MOON   pos\n",
       "4    Proud of my Very first NFT on Rarible Very gra...   pos\n",
       "..                                                 ...   ...\n",
       "141  Error during a swap I did on MetaMask It still...   neg\n",
       "142                                 Todays Legit List    neu\n",
       "143  Why is ethereum going up so early  i wanted to...   neu\n",
       "144  Lost nearly  in transaction costs already beca...   neg\n",
       "145  When people panic sell their ETH instead of bu...   neg\n",
       "\n",
       "[146 rows x 2 columns]"
      ]
     },
     "execution_count": 85,
     "metadata": {},
     "output_type": "execute_result"
    }
   ],
   "source": [
    "result"
   ]
  },
  {
   "cell_type": "code",
   "execution_count": 86,
   "id": "b33eff92",
   "metadata": {},
   "outputs": [],
   "source": [
    "result.to_csv('modelpredict2.csv')"
   ]
  },
  {
   "cell_type": "code",
   "execution_count": null,
   "id": "91e193f9",
   "metadata": {},
   "outputs": [],
   "source": []
  }
 ],
 "metadata": {
  "kernelspec": {
   "display_name": "Python 3 (ipykernel)",
   "language": "python",
   "name": "python3"
  },
  "language_info": {
   "codemirror_mode": {
    "name": "ipython",
    "version": 3
   },
   "file_extension": ".py",
   "mimetype": "text/x-python",
   "name": "python",
   "nbconvert_exporter": "python",
   "pygments_lexer": "ipython3",
   "version": "3.8.12"
  }
 },
 "nbformat": 4,
 "nbformat_minor": 5
}
