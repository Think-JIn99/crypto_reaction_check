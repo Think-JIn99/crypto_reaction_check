{
 "cells": [
  {
   "cell_type": "code",
   "execution_count": 4,
   "metadata": {},
   "outputs": [],
   "source": [
    "import numpy as np\n",
    "import pandas as pd\n",
    "import os\n",
    "import re\n",
    "from vaderSentiment.vaderSentiment import SentimentIntensityAnalyzer\n",
    "from vader_feature import new_words"
   ]
  },
  {
   "cell_type": "code",
   "execution_count": 6,
   "metadata": {},
   "outputs": [],
   "source": [
    "def remove_pattern(df, patt, column_name):\n",
    "    patt_find = df[column_name].str.findall(patt, flags = re.IGNORECASE)\n",
    "    valid_index = np.where(patt_find.apply(len) == 0, True, False)\n",
    "    return valid_index"
   ]
  },
  {
   "cell_type": "code",
   "execution_count": 7,
   "metadata": {},
   "outputs": [],
   "source": [
    "url_patt = \"(http:\\/\\/www\\.|https:\\/\\/www\\.|http:\\/\\/|https:\\/\\/)?[a-z0-9]+([\\-\\.]{1}[a-z0-9]+)*\\.[a-z]{2,5}(:[0-9]{1,5})?(\\/.*)?$\"\n",
    "word_patt  = r'\\bfree\\b|\\binstall\\b|\\bdownload\\b|\\bapp\\b|\\bwallet\\b|\\bhardware\\b|\\blink\\b|\\bcard\\b|\\bpayapl\\b|\\bmining\\b|\\bmine\\b|\\bplatform\\b|\\bbrowser\\b|\\bsite\\b'"
   ]
  },
  {
   "cell_type": "code",
   "execution_count": 8,
   "metadata": {},
   "outputs": [],
   "source": [
    "def get_vader_df(df):\n",
    "    title_vader = df['title'].dropna().apply(analyzer.polarity_scores)\n",
    "    #df로 변환해 반환해준다.\n",
    "    vader_title_df = pd.DataFrame(dict(title_vader)).T\n",
    "    return vader_title_df #vader실행 결과를 반환해준다."
   ]
  },
  {
   "cell_type": "code",
   "execution_count": null,
   "metadata": {},
   "outputs": [],
   "source": [
    "column_name = 'title'\n",
    "path = '../dataset/'\n",
    "analyzer = SentimentIntensityAnalyzer() #vader 객체\n",
    "analyzer.lexicon.update(new_words)\n",
    "for f in os.listdir(path):\n",
    "    df = pd.read_csv(f'{path}{f}')\n",
    "    df = df.drop_duplicates(['title'],keep='first') #중복 처리를 해준다.\n",
    "    df = df.drop('selftext',axis = 1)\n",
    "    word_index = remove_pattern(df, word_patt, column_name)\n",
    "    url_index = remove_pattern(df,url_patt,column_name)\n",
    "    title_to_remove = df.loc[(word_index & url_index) == False, ['title']]\n",
    "    title_valid = df.loc[~df.index.isin(title_to_remove.index)]\n",
    "    title_valid['title_vader'] = get_vader_df(title_valid)['compound']\n",
    "    title_valid = title_valid[['id','author','title_vader','title','created_utc','num_comments','score']]\n",
    "    title_valid.to_csv(f'./valid_data/{f}.csv')\n",
    "    # title_to_remove.to_csv(f'./remove_data/{f}.csv')"
   ]
  },
  {
   "cell_type": "code",
   "execution_count": 9,
   "metadata": {},
   "outputs": [],
   "source": [
    "path = './valid_data/'\n",
    "file_list = os.listdir(path)"
   ]
  },
  {
   "cell_type": "code",
   "execution_count": 19,
   "metadata": {},
   "outputs": [],
   "source": [
    "def create_train_data(df):\n",
    "    indexes = np.abs(df['title_vader']) > 0.6\n",
    "    return indexes"
   ]
  },
  {
   "cell_type": "code",
   "execution_count": 20,
   "metadata": {},
   "outputs": [],
   "source": [
    "for f in file_list:\n",
    "    df = pd.read_csv(path+f)\n",
    "    df = df.loc[create_train_data(df)]\n",
    "    if os.path.exists('./train_data.csv'):\n",
    "            df.to_csv('./train_data.csv',sep=',',mode='a',index=False,header=False)\n",
    "    else:\n",
    "        df.to_csv(\"./train_data\",sep=',',index=False)"
   ]
  },
  {
   "cell_type": "code",
   "execution_count": 1,
   "metadata": {},
   "outputs": [
    {
     "ename": "NameError",
     "evalue": "name 'pd' is not defined",
     "output_type": "error",
     "traceback": [
      "\u001B[0;31m---------------------------------------------------------------------------\u001B[0m",
      "\u001B[0;31mNameError\u001B[0m                                 Traceback (most recent call last)",
      "\u001B[0;32m<ipython-input-1-2a8a2321d74b>\u001B[0m in \u001B[0;36m<module>\u001B[0;34m\u001B[0m\n\u001B[0;32m----> 1\u001B[0;31m \u001B[0mdf\u001B[0m \u001B[0;34m=\u001B[0m \u001B[0mpd\u001B[0m\u001B[0;34m.\u001B[0m\u001B[0mread_csv\u001B[0m\u001B[0;34m(\u001B[0m\u001B[0;34m\"./train_data\"\u001B[0m\u001B[0;34m)\u001B[0m\u001B[0;34m\u001B[0m\u001B[0;34m\u001B[0m\u001B[0m\n\u001B[0m\u001B[1;32m      2\u001B[0m \u001B[0mdf\u001B[0m\u001B[0;34m.\u001B[0m\u001B[0mcolumns\u001B[0m \u001B[0;34m=\u001B[0m \u001B[0;34m[\u001B[0m\u001B[0;34m'index'\u001B[0m\u001B[0;34m,\u001B[0m\u001B[0;34m'title'\u001B[0m\u001B[0;34m]\u001B[0m\u001B[0;34m\u001B[0m\u001B[0;34m\u001B[0m\u001B[0m\n\u001B[1;32m      3\u001B[0m \u001B[0mdf\u001B[0m \u001B[0;34m=\u001B[0m \u001B[0mdf\u001B[0m\u001B[0;34m.\u001B[0m\u001B[0mdrop\u001B[0m\u001B[0;34m(\u001B[0m\u001B[0;34m'Unnamed: 0'\u001B[0m\u001B[0;34m,\u001B[0m\u001B[0maxis\u001B[0m\u001B[0;34m=\u001B[0m\u001B[0;36m1\u001B[0m\u001B[0;34m)\u001B[0m\u001B[0;34m\u001B[0m\u001B[0;34m\u001B[0m\u001B[0m\n",
      "\u001B[0;31mNameError\u001B[0m: name 'pd' is not defined"
     ]
    }
   ],
   "source": [
    "df = pd.read_csv(\"./train_data\")\n",
    "\n",
    "df = df.drop('Unnamed: 0',axis=1)"
   ]
  },
  {
   "cell_type": "code",
   "execution_count": 23,
   "metadata": {},
   "outputs": [],
   "source": [
    "df.to_csv(\"./train_data\",sep=',')"
   ]
  }
 ],
 "metadata": {
  "interpreter": {
   "hash": "67a9d45133f1a9e4e6de0dcd9787e83ef7d08e0d5bdd34045d03563c32d8ac89"
  },
  "kernelspec": {
   "display_name": "Python 3.8.5 64-bit ('py_3.8': conda)",
   "language": "python",
   "name": "python3"
  },
  "language_info": {
   "codemirror_mode": {
    "name": "ipython",
    "version": 3
   },
   "file_extension": ".py",
   "mimetype": "text/x-python",
   "name": "python",
   "nbconvert_exporter": "python",
   "pygments_lexer": "ipython3",
   "version": "3.8.5"
  },
  "orig_nbformat": 4
 },
 "nbformat": 4,
 "nbformat_minor": 2
}