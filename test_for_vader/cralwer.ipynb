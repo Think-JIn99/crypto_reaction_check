{
 "cells": [
  {
   "cell_type": "code",
   "execution_count": 28,
   "id": "088a821f",
   "metadata": {},
   "outputs": [],
   "source": [
    "twitter_access_token=\"1450132249530171395-HQm3zbXBhy4QmLXTztSohTfkvGhy2m\"\n",
    "twitter_access_secret =\"rR1AZd1nBtZEfhvk0tU2jePNesl2cgxCO4gNYV17BLjC0\"\n",
    "twitter_consumer_key = \"hRSJY5XNlWfEDaT4KDTxB3epf\"\n",
    "twitter_consumer_secret = \"cLstbiL7hJkwrFoaB9crgsoDVEKLXGUGvqCR8ZSYgaAiKtfG7k\"  \n",
    "import twitter\n",
    "import pandas as pd\n",
    "twitter_api = twitter.Api(consumer_key=twitter_consumer_key,\n",
    "                          consumer_secret=twitter_consumer_secret, \n",
    "                          access_token_key=twitter_access_token, \n",
    "                          access_token_secret=twitter_access_secret)\n",
    "df=pd.DataFrame(columns=['text','label'])\n",
    "query = \"bitcoin\"\n",
    "statuses = twitter_api.GetSearch(term=query, count=1000)\n",
    "for status in statuses:\n",
    "    df.loc[len(df)]=[status.text,'0']\n",
    "df.to_csv('C:\\\\Users\\\\user\\\\bicoin8.csv',sep=',',na_rep='NaN')"
   ]
  },
  {
   "cell_type": "code",
   "execution_count": null,
   "id": "c2e27355",
   "metadata": {},
   "outputs": [],
   "source": []
  }
 ],
 "metadata": {
  "kernelspec": {
   "display_name": "Python 3 (ipykernel)",
   "language": "python",
   "name": "python3"
  },
  "language_info": {
   "codemirror_mode": {
    "name": "ipython",
    "version": 3
   },
   "file_extension": ".py",
   "mimetype": "text/x-python",
   "name": "python",
   "nbconvert_exporter": "python",
   "pygments_lexer": "ipython3",
   "version": "3.8.11"
  }
 },
 "nbformat": 4,
 "nbformat_minor": 5
}
