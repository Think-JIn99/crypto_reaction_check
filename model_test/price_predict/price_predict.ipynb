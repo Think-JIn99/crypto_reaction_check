{
 "cells": [
  {
   "cell_type": "code",
   "execution_count": 5,
   "metadata": {},
   "outputs": [],
   "source": [
    "import yfinance as yf\n",
    "from datetime import datetime"
   ]
  },
  {
   "cell_type": "code",
   "execution_count": 2,
   "metadata": {},
   "outputs": [
    {
     "name": "stdout",
     "output_type": "stream",
     "text": [
      "[*********************100%***********************]  1 of 1 completed\n"
     ]
    }
   ],
   "source": [
    "doge = yf.download('DOGE-USD')"
   ]
  },
  {
   "cell_type": "code",
   "execution_count": 13,
   "metadata": {},
   "outputs": [
    {
     "data": {
      "text/plain": [
       "array([False, False, False, ...,  True,  True,  True])"
      ]
     },
     "execution_count": 13,
     "metadata": {},
     "output_type": "execute_result"
    }
   ],
   "source": [
    "doge.index > datetime(2021,1,1)"
   ]
  },
  {
   "cell_type": "code",
   "execution_count": 14,
   "metadata": {},
   "outputs": [
    {
     "data": {
      "text/html": [
       "<div>\n",
       "<style scoped>\n",
       "    .dataframe tbody tr th:only-of-type {\n",
       "        vertical-align: middle;\n",
       "    }\n",
       "\n",
       "    .dataframe tbody tr th {\n",
       "        vertical-align: top;\n",
       "    }\n",
       "\n",
       "    .dataframe thead th {\n",
       "        text-align: right;\n",
       "    }\n",
       "</style>\n",
       "<table border=\"1\" class=\"dataframe\">\n",
       "  <thead>\n",
       "    <tr style=\"text-align: right;\">\n",
       "      <th></th>\n",
       "      <th>Open</th>\n",
       "      <th>High</th>\n",
       "      <th>Low</th>\n",
       "      <th>Close</th>\n",
       "      <th>Adj Close</th>\n",
       "      <th>Volume</th>\n",
       "    </tr>\n",
       "    <tr>\n",
       "      <th>Date</th>\n",
       "      <th></th>\n",
       "      <th></th>\n",
       "      <th></th>\n",
       "      <th></th>\n",
       "      <th></th>\n",
       "      <th></th>\n",
       "    </tr>\n",
       "  </thead>\n",
       "  <tbody>\n",
       "    <tr>\n",
       "      <th>2020-01-02</th>\n",
       "      <td>0.002034</td>\n",
       "      <td>0.002110</td>\n",
       "      <td>0.001983</td>\n",
       "      <td>0.002009</td>\n",
       "      <td>0.002009</td>\n",
       "      <td>65071106</td>\n",
       "    </tr>\n",
       "    <tr>\n",
       "      <th>2020-01-03</th>\n",
       "      <td>0.002008</td>\n",
       "      <td>0.002177</td>\n",
       "      <td>0.001991</td>\n",
       "      <td>0.002145</td>\n",
       "      <td>0.002145</td>\n",
       "      <td>62619988</td>\n",
       "    </tr>\n",
       "    <tr>\n",
       "      <th>2020-01-04</th>\n",
       "      <td>0.002144</td>\n",
       "      <td>0.002490</td>\n",
       "      <td>0.002050</td>\n",
       "      <td>0.002241</td>\n",
       "      <td>0.002241</td>\n",
       "      <td>94227582</td>\n",
       "    </tr>\n",
       "    <tr>\n",
       "      <th>2020-01-05</th>\n",
       "      <td>0.002240</td>\n",
       "      <td>0.002491</td>\n",
       "      <td>0.002117</td>\n",
       "      <td>0.002419</td>\n",
       "      <td>0.002419</td>\n",
       "      <td>52631740</td>\n",
       "    </tr>\n",
       "    <tr>\n",
       "      <th>2020-01-06</th>\n",
       "      <td>0.002418</td>\n",
       "      <td>0.002564</td>\n",
       "      <td>0.002379</td>\n",
       "      <td>0.002463</td>\n",
       "      <td>0.002463</td>\n",
       "      <td>54562409</td>\n",
       "    </tr>\n",
       "    <tr>\n",
       "      <th>...</th>\n",
       "      <td>...</td>\n",
       "      <td>...</td>\n",
       "      <td>...</td>\n",
       "      <td>...</td>\n",
       "      <td>...</td>\n",
       "      <td>...</td>\n",
       "    </tr>\n",
       "    <tr>\n",
       "      <th>2021-10-27</th>\n",
       "      <td>0.255836</td>\n",
       "      <td>0.263317</td>\n",
       "      <td>0.220328</td>\n",
       "      <td>0.237690</td>\n",
       "      <td>0.237690</td>\n",
       "      <td>5022822846</td>\n",
       "    </tr>\n",
       "    <tr>\n",
       "      <th>2021-10-28</th>\n",
       "      <td>0.237381</td>\n",
       "      <td>0.338843</td>\n",
       "      <td>0.233334</td>\n",
       "      <td>0.300447</td>\n",
       "      <td>0.300447</td>\n",
       "      <td>20359592492</td>\n",
       "    </tr>\n",
       "    <tr>\n",
       "      <th>2021-10-29</th>\n",
       "      <td>0.299964</td>\n",
       "      <td>0.306312</td>\n",
       "      <td>0.279771</td>\n",
       "      <td>0.287853</td>\n",
       "      <td>0.287853</td>\n",
       "      <td>5866664030</td>\n",
       "    </tr>\n",
       "    <tr>\n",
       "      <th>2021-10-30</th>\n",
       "      <td>0.287764</td>\n",
       "      <td>0.294647</td>\n",
       "      <td>0.259888</td>\n",
       "      <td>0.268345</td>\n",
       "      <td>0.268345</td>\n",
       "      <td>3637334331</td>\n",
       "    </tr>\n",
       "    <tr>\n",
       "      <th>2021-10-31</th>\n",
       "      <td>0.269239</td>\n",
       "      <td>0.284707</td>\n",
       "      <td>0.252614</td>\n",
       "      <td>0.280244</td>\n",
       "      <td>0.280244</td>\n",
       "      <td>4224104205</td>\n",
       "    </tr>\n",
       "  </tbody>\n",
       "</table>\n",
       "<p>665 rows × 6 columns</p>\n",
       "</div>"
      ],
      "text/plain": [
       "                Open      High       Low     Close  Adj Close       Volume\n",
       "Date                                                                      \n",
       "2020-01-02  0.002034  0.002110  0.001983  0.002009   0.002009     65071106\n",
       "2020-01-03  0.002008  0.002177  0.001991  0.002145   0.002145     62619988\n",
       "2020-01-04  0.002144  0.002490  0.002050  0.002241   0.002241     94227582\n",
       "2020-01-05  0.002240  0.002491  0.002117  0.002419   0.002419     52631740\n",
       "2020-01-06  0.002418  0.002564  0.002379  0.002463   0.002463     54562409\n",
       "...              ...       ...       ...       ...        ...          ...\n",
       "2021-10-27  0.255836  0.263317  0.220328  0.237690   0.237690   5022822846\n",
       "2021-10-28  0.237381  0.338843  0.233334  0.300447   0.300447  20359592492\n",
       "2021-10-29  0.299964  0.306312  0.279771  0.287853   0.287853   5866664030\n",
       "2021-10-30  0.287764  0.294647  0.259888  0.268345   0.268345   3637334331\n",
       "2021-10-31  0.269239  0.284707  0.252614  0.280244   0.280244   4224104205\n",
       "\n",
       "[665 rows x 6 columns]"
      ]
     },
     "execution_count": 14,
     "metadata": {},
     "output_type": "execute_result"
    }
   ],
   "source": [
    "start = datetime(2020,1,1)\n",
    "end = datetime(2021,11,1)\n",
    "doge.loc[(start < doge.index) & (doge.index < end)]"
   ]
  },
  {
   "cell_type": "code",
   "execution_count": 1,
   "metadata": {},
   "outputs": [
    {
     "ename": "NameError",
     "evalue": "name 'doge' is not defined",
     "output_type": "error",
     "traceback": [
      "\u001b[0;31m---------------------------------------------------------------------------\u001b[0m",
      "\u001b[0;31mNameError\u001b[0m                                 Traceback (most recent call last)",
      "\u001b[0;32m<ipython-input-1-8f38520434f6>\u001b[0m in \u001b[0;36m<module>\u001b[0;34m\u001b[0m\n\u001b[0;32m----> 1\u001b[0;31m \u001b[0mdoge\u001b[0m\u001b[0;34m.\u001b[0m\u001b[0mdrop\u001b[0m\u001b[0;34m(\u001b[0m\u001b[0;34m[\u001b[0m\u001b[0;34m'Adj close'\u001b[0m\u001b[0;34m]\u001b[0m\u001b[0;34m,\u001b[0m\u001b[0maxis\u001b[0m\u001b[0;34m=\u001b[0m\u001b[0;36m1\u001b[0m\u001b[0;34m)\u001b[0m\u001b[0;34m\u001b[0m\u001b[0;34m\u001b[0m\u001b[0m\n\u001b[0m",
      "\u001b[0;31mNameError\u001b[0m: name 'doge' is not defined"
     ]
    }
   ],
   "source": [
    "doge.drop(['Adj close'],axis=1)"
   ]
  }
 ],
 "metadata": {
  "interpreter": {
   "hash": "67a9d45133f1a9e4e6de0dcd9787e83ef7d08e0d5bdd34045d03563c32d8ac89"
  },
  "kernelspec": {
   "display_name": "Python 3.8.5 64-bit ('py_3.8': conda)",
   "language": "python",
   "name": "python3"
  },
  "language_info": {
   "codemirror_mode": {
    "name": "ipython",
    "version": 3
   },
   "file_extension": ".py",
   "mimetype": "text/x-python",
   "name": "python",
   "nbconvert_exporter": "python",
   "pygments_lexer": "ipython3",
   "version": "3.8.5"
  },
  "orig_nbformat": 4
 },
 "nbformat": 4,
 "nbformat_minor": 2
}
