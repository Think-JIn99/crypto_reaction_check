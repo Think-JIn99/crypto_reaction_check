{
 "cells": [
  {
   "cell_type": "code",
   "execution_count": 14,
   "outputs": [
    {
     "name": "stdout",
     "output_type": "stream",
     "text": [
      "True\n"
     ]
    }
   ],
   "source": [
    "import praw\n",
    "reddit = praw.Reddit(\n",
    "    client_id=\"_i0Z1_b3Xs0LGPdfGqt3JQ\",\n",
    "    client_secret=\"iplaFZ16URV1GQVtBpAaWaCg9V51pA\",\n",
    "    user_agent=\"CryptoScrap by /u/LunarJun\",\n",
    ")\n",
    "print(reddit.read_only)"
   ],
   "metadata": {
    "collapsed": false,
    "pycharm": {
     "name": "#%%\n"
    }
   }
  },
  {
   "cell_type": "code",
   "execution_count": 20,
   "outputs": [
    {
     "name": "stdout",
     "output_type": "stream",
     "text": [
      "        id                                              title   created_utc\n",
      "0   r9bydq                        Is mining still profitable?  1.638696e+09\n",
      "0   r9btqa  Coinbsse is giving away $5 in USDC (USD Coin) ...  1.638695e+09\n",
      "0   r9bjf2  I want to get into Bitcoin to get rich or at l...  1.638694e+09\n",
      "0   r9b5gy  Tik tok next block, Timechain don't stop - ano...  1.638692e+09\n",
      "0   r9asep  As we can see at this current moment, the mark...  1.638691e+09\n",
      "..     ...                                                ...           ...\n",
      "0   r8ulqo           2021 Bitcoin Node Sync Performance Tests  1.638639e+09\n",
      "0   r8ukkj  A nearly 20% drop in Bitcoin; El Salvador buys...  1.638639e+09\n",
      "0   r8ufiu                                 Bitcoin and Tesla?  1.638639e+09\n",
      "0   r8ufef  Buy the Ticket, Take the Ride. Some motivation...  1.638639e+09\n",
      "0   r8ueaa  Where can I buy The Bitcoin Sandard in differe...  1.638639e+09\n",
      "\n",
      "[100 rows x 3 columns]\n"
     ]
    }
   ],
   "source": [
    "import pandas as pd\n",
    "\n",
    "def submission_to_df(submission) -> pd.DataFrame:\n",
    "    df = pd.DataFrame({'id':[submission.id],\n",
    "                       'title':[submission.title],\n",
    "                       'created_utc':[submission.created_utc]})\n",
    "    return df[::][::]\n",
    "\n",
    "subreddit = reddit.subreddit(\"Bitcoin\")\n",
    "submissions_df = pd.DataFrame()\n",
    "for submission in subreddit.new(limit=100):\n",
    "    submissions_df = submissions_df.append(submission_to_df(submission))\n",
    "\n",
    "print(submissions_df)\n"
   ],
   "metadata": {
    "collapsed": false,
    "pycharm": {
     "name": "#%%\n"
    }
   }
  },
  {
   "cell_type": "code",
   "execution_count": null,
   "outputs": [],
   "source": [],
   "metadata": {
    "collapsed": false,
    "pycharm": {
     "name": "#%%\n"
    }
   }
  }
 ],
 "metadata": {
  "kernelspec": {
   "display_name": "Python 3",
   "language": "python",
   "name": "python3"
  },
  "language_info": {
   "codemirror_mode": {
    "name": "ipython",
    "version": 2
   },
   "file_extension": ".py",
   "mimetype": "text/x-python",
   "name": "python",
   "nbconvert_exporter": "python",
   "pygments_lexer": "ipython2",
   "version": "2.7.6"
  }
 },
 "nbformat": 4,
 "nbformat_minor": 0
}