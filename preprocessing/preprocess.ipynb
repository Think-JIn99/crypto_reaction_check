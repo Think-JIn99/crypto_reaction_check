{
 "cells": [
  {
   "cell_type": "code",
   "execution_count": 53,
   "id": "0e963779",
   "metadata": {
    "scrolled": true
   },
   "outputs": [
    {
     "name": "stderr",
     "output_type": "stream",
     "text": [
      "C:\\Users\\user\\AppData\\Local\\Temp/ipykernel_11568/3954985849.py:9: FutureWarning: The default value of regex will change from True to False in a future version.\n",
      "  train_data['title'] = train_data['title'].str.replace('^ +', \"\")\n"
     ]
    }
   ],
   "source": [
    "import pandas as pd\n",
    "import numpy as np\n",
    "import re\n",
    "train_data = pd.read_table('2021-08-01 00_00_00.txt',encoding='ANSI')\n",
    "train_data['title'].nunique()\n",
    "train_data.drop_duplicates(subset=['title'], inplace=True)\n",
    "for x in range(len(train_data)):\n",
    "    train_data['title'].iloc[x]=re.sub(r'[^a-zA-Z ]', '',str(train_data['title'].iloc[x]))\n",
    "train_data['title'] = train_data['title'].str.replace('^ +', \"\")\n",
    "train_data['title'].replace('', np.nan, inplace=True)\n",
    "train_data.to_csv('re2021-08-01 00_00_00.csv ')\n"
   ]
  },
  {
   "cell_type": "code",
   "execution_count": null,
   "id": "ab3bf1d3",
   "metadata": {
    "scrolled": true
   },
   "outputs": [],
   "source": []
  },
  {
   "cell_type": "code",
   "execution_count": null,
   "id": "dec1f24c",
   "metadata": {},
   "outputs": [],
   "source": []
  }
 ],
 "metadata": {
  "kernelspec": {
   "display_name": "Python 3 (ipykernel)",
   "language": "python",
   "name": "python3"
  },
  "language_info": {
   "codemirror_mode": {
    "name": "ipython",
    "version": 3
   },
   "file_extension": ".py",
   "mimetype": "text/x-python",
   "name": "python",
   "nbconvert_exporter": "python",
   "pygments_lexer": "ipython3",
   "version": "3.8.11"
  }
 },
 "nbformat": 4,
 "nbformat_minor": 5
}
