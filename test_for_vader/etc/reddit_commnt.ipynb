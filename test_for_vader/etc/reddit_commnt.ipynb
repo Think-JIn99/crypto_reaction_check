{
 "cells": [
  {
   "cell_type": "markdown",
   "metadata": {},
   "source": [
    "### 레딧에 존재하는 가상화폐 관련 데이터 스크래핑 하기\n",
    "> 레딧에 존재하는 crypto 관련 서브레딧들을 읽고 스크래핑 하는 노트북입니다."
   ]
  },
  {
   "cell_type": "code",
   "execution_count": 1,
   "metadata": {},
   "outputs": [],
   "source": [
    "import numpy as np\n",
    "import pandas as pd\n",
    "import praw as pr"
   ]
  },
  {
   "cell_type": "markdown",
   "metadata": {},
   "source": [
    "* API에서 활용한 기본적인 정보들을 초기화 해줍니다."
   ]
  },
  {
   "cell_type": "code",
   "execution_count": 6,
   "metadata": {},
   "outputs": [],
   "source": [
    "reddit = pr.Reddit(client_id = '5hZWVxcGaheY_FbEwh_L4Q',client_secret = '03EpB1iqxhWk-0z613bg2FqpVwI28g',\n",
    "user_agent = 'coin_tracker')"
   ]
  },
  {
   "cell_type": "code",
   "execution_count": 9,
   "metadata": {},
   "outputs": [],
   "source": [
    "subreddit = reddit.subreddit('Bitcoin')"
   ]
  },
  {
   "cell_type": "code",
   "execution_count": 13,
   "metadata": {},
   "outputs": [],
   "source": [
    "comments = []\n",
    "for comment in subreddit.comments():\n",
    "    if comment is None:\n",
    "        break\n",
    "    comments.append(comment)"
   ]
  },
  {
   "cell_type": "code",
   "execution_count": 16,
   "metadata": {},
   "outputs": [],
   "source": [
    "def convert_to_dataframe(comments):\n",
    "    _comments = []\n",
    "    for comment in comments:\n",
    "        _comments.append(\n",
    "            [\n",
    "                comment.id,\n",
    "                comment.author,\n",
    "                comment.link_title,\n",
    "                comment.body,\n",
    "                comment.created_utc,\n",
    "            ]\n",
    "        )\n",
    "    \n",
    "    comments_df = pd.DataFrame(\n",
    "        _comments,\n",
    "        columns = [\"id\",\n",
    "        \"author\",\n",
    "        \"title\",\n",
    "        \"contents\",\n",
    "        \"created\"\n",
    "        ]\n",
    "    )\n",
    "    return comments_df\n"
   ]
  },
  {
   "cell_type": "code",
   "execution_count": 18,
   "metadata": {},
   "outputs": [],
   "source": [
    "coment_df = convert_to_dataframe(comments)\n",
    "coment_df['created'] = pd.to_datetime(coment_df['created'],unit='s')"
   ]
  },
  {
   "cell_type": "code",
   "execution_count": 19,
   "metadata": {},
   "outputs": [
    {
     "data": {
      "text/html": [
       "<div>\n",
       "<style scoped>\n",
       "    .dataframe tbody tr th:only-of-type {\n",
       "        vertical-align: middle;\n",
       "    }\n",
       "\n",
       "    .dataframe tbody tr th {\n",
       "        vertical-align: top;\n",
       "    }\n",
       "\n",
       "    .dataframe thead th {\n",
       "        text-align: right;\n",
       "    }\n",
       "</style>\n",
       "<table border=\"1\" class=\"dataframe\">\n",
       "  <thead>\n",
       "    <tr style=\"text-align: right;\">\n",
       "      <th></th>\n",
       "      <th>id</th>\n",
       "      <th>author</th>\n",
       "      <th>title</th>\n",
       "      <th>contents</th>\n",
       "      <th>created</th>\n",
       "    </tr>\n",
       "  </thead>\n",
       "  <tbody>\n",
       "    <tr>\n",
       "      <th>0</th>\n",
       "      <td>hiymkoh</td>\n",
       "      <td>cozzy000</td>\n",
       "      <td>Daily Discussion, November 01, 2021</td>\n",
       "      <td>I'm asking because I'm at that point right now...</td>\n",
       "      <td>2021-11-02 01:54:37</td>\n",
       "    </tr>\n",
       "    <tr>\n",
       "      <th>1</th>\n",
       "      <td>hiymixr</td>\n",
       "      <td>Mallardshead</td>\n",
       "      <td>Are people buying Bitcoin because they actuall...</td>\n",
       "      <td>It doesn't matter, because although bitcoin at...</td>\n",
       "      <td>2021-11-02 01:54:15</td>\n",
       "    </tr>\n",
       "    <tr>\n",
       "      <th>2</th>\n",
       "      <td>hiymiu2</td>\n",
       "      <td>Stockoholic</td>\n",
       "      <td>\"We go to the moon together\"- here's Aaron Rod...</td>\n",
       "      <td>I believe one day 0.1 btc will be the hard to ...</td>\n",
       "      <td>2021-11-02 01:54:14</td>\n",
       "    </tr>\n",
       "    <tr>\n",
       "      <th>3</th>\n",
       "      <td>hiymihk</td>\n",
       "      <td>ParamedicDecent</td>\n",
       "      <td>I sent Bitcoin on cash app to another wallet b...</td>\n",
       "      <td>Did they ever reply</td>\n",
       "      <td>2021-11-02 01:54:10</td>\n",
       "    </tr>\n",
       "    <tr>\n",
       "      <th>4</th>\n",
       "      <td>hiymh8r</td>\n",
       "      <td>jabatasu</td>\n",
       "      <td>Daily Discussion, November 01, 2021</td>\n",
       "      <td>That's not how DCA works</td>\n",
       "      <td>2021-11-02 01:53:54</td>\n",
       "    </tr>\n",
       "    <tr>\n",
       "      <th>...</th>\n",
       "      <td>...</td>\n",
       "      <td>...</td>\n",
       "      <td>...</td>\n",
       "      <td>...</td>\n",
       "      <td>...</td>\n",
       "    </tr>\n",
       "    <tr>\n",
       "      <th>95</th>\n",
       "      <td>hiyil1k</td>\n",
       "      <td>tesseramous</td>\n",
       "      <td>Daily Discussion, November 01, 2021</td>\n",
       "      <td>It depends.  Do you want to retire in a house ...</td>\n",
       "      <td>2021-11-02 01:24:42</td>\n",
       "    </tr>\n",
       "    <tr>\n",
       "      <th>96</th>\n",
       "      <td>hiyijz0</td>\n",
       "      <td>twiceBlanjo12</td>\n",
       "      <td>Pay rent or BTC?</td>\n",
       "      <td>invest that $1000 in getting a job and just en...</td>\n",
       "      <td>2021-11-02 01:24:28</td>\n",
       "    </tr>\n",
       "    <tr>\n",
       "      <th>97</th>\n",
       "      <td>hiyijl0</td>\n",
       "      <td>Alfador8</td>\n",
       "      <td>Daily Discussion, November 01, 2021</td>\n",
       "      <td>Hendrew is a bear-troll so I wouldn't worry ab...</td>\n",
       "      <td>2021-11-02 01:24:23</td>\n",
       "    </tr>\n",
       "    <tr>\n",
       "      <th>98</th>\n",
       "      <td>hiyiguu</td>\n",
       "      <td>Triffidic</td>\n",
       "      <td>Daily Discussion, November 01, 2021</td>\n",
       "      <td>watching the charts of better cheddar,\\n\\nmake...</td>\n",
       "      <td>2021-11-02 01:23:48</td>\n",
       "    </tr>\n",
       "    <tr>\n",
       "      <th>99</th>\n",
       "      <td>hiyignv</td>\n",
       "      <td>jvcjr1</td>\n",
       "      <td>Bitcoin Exponential Growth</td>\n",
       "      <td>Bitcoin exponential growth is so volatile we c...</td>\n",
       "      <td>2021-11-02 01:23:46</td>\n",
       "    </tr>\n",
       "  </tbody>\n",
       "</table>\n",
       "<p>100 rows × 5 columns</p>\n",
       "</div>"
      ],
      "text/plain": [
       "         id           author  \\\n",
       "0   hiymkoh         cozzy000   \n",
       "1   hiymixr     Mallardshead   \n",
       "2   hiymiu2      Stockoholic   \n",
       "3   hiymihk  ParamedicDecent   \n",
       "4   hiymh8r         jabatasu   \n",
       "..      ...              ...   \n",
       "95  hiyil1k      tesseramous   \n",
       "96  hiyijz0    twiceBlanjo12   \n",
       "97  hiyijl0         Alfador8   \n",
       "98  hiyiguu        Triffidic   \n",
       "99  hiyignv           jvcjr1   \n",
       "\n",
       "                                                title  \\\n",
       "0                 Daily Discussion, November 01, 2021   \n",
       "1   Are people buying Bitcoin because they actuall...   \n",
       "2   \"We go to the moon together\"- here's Aaron Rod...   \n",
       "3   I sent Bitcoin on cash app to another wallet b...   \n",
       "4                 Daily Discussion, November 01, 2021   \n",
       "..                                                ...   \n",
       "95                Daily Discussion, November 01, 2021   \n",
       "96                                   Pay rent or BTC?   \n",
       "97                Daily Discussion, November 01, 2021   \n",
       "98                Daily Discussion, November 01, 2021   \n",
       "99                         Bitcoin Exponential Growth   \n",
       "\n",
       "                                             contents             created  \n",
       "0   I'm asking because I'm at that point right now... 2021-11-02 01:54:37  \n",
       "1   It doesn't matter, because although bitcoin at... 2021-11-02 01:54:15  \n",
       "2   I believe one day 0.1 btc will be the hard to ... 2021-11-02 01:54:14  \n",
       "3                                 Did they ever reply 2021-11-02 01:54:10  \n",
       "4                            That's not how DCA works 2021-11-02 01:53:54  \n",
       "..                                                ...                 ...  \n",
       "95  It depends.  Do you want to retire in a house ... 2021-11-02 01:24:42  \n",
       "96  invest that $1000 in getting a job and just en... 2021-11-02 01:24:28  \n",
       "97  Hendrew is a bear-troll so I wouldn't worry ab... 2021-11-02 01:24:23  \n",
       "98  watching the charts of better cheddar,\\n\\nmake... 2021-11-02 01:23:48  \n",
       "99  Bitcoin exponential growth is so volatile we c... 2021-11-02 01:23:46  \n",
       "\n",
       "[100 rows x 5 columns]"
      ]
     },
     "execution_count": 19,
     "metadata": {},
     "output_type": "execute_result"
    }
   ],
   "source": [
    "coment_df"
   ]
  },
  {
   "cell_type": "code",
   "execution_count": null,
   "metadata": {},
   "outputs": [],
   "source": [
    "coment_df.to_csv('./reddit_coment.csv',sep=',')"
   ]
  }
 ],
 "metadata": {
  "interpreter": {
   "hash": "67a9d45133f1a9e4e6de0dcd9787e83ef7d08e0d5bdd34045d03563c32d8ac89"
  },
  "kernelspec": {
   "display_name": "Python 3.8.5 64-bit ('py_3.8': conda)",
   "name": "python3"
  },
  "language_info": {
   "codemirror_mode": {
    "name": "ipython",
    "version": 3
   },
   "file_extension": ".py",
   "mimetype": "text/x-python",
   "name": "python",
   "nbconvert_exporter": "python",
   "pygments_lexer": "ipython3",
   "version": "3.8.5"
  },
  "orig_nbformat": 4
 },
 "nbformat": 4,
 "nbformat_minor": 2
}
